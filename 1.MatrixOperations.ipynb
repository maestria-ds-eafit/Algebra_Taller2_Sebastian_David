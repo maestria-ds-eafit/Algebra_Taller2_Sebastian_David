{
 "cells": [
  {
   "cell_type": "markdown",
   "metadata": {},
   "source": [
    "# 1. Solución Sistema de Ecuaciones Lineales\n",
    "\n",
    "El objetivo de este notebook es resolver un problema de sistema de ecuaciones lineales. Evidenciar el impacto que puede causar en los resultados un pequeño cambio en los coeficiente del sistema y calcular la cota superior para el error relativo."
   ]
  },
  {
   "cell_type": "markdown",
   "metadata": {},
   "source": [
    "## Importando librerías necesarias"
   ]
  },
  {
   "cell_type": "code",
   "execution_count": 1,
   "metadata": {},
   "outputs": [],
   "source": [
    "import numpy as np\n",
    "from numpy import matrix, linalg"
   ]
  },
  {
   "cell_type": "markdown",
   "metadata": {},
   "source": [
    "## 1.1. Hallar la solución para el siguiente sistema de Ecuaciones Lineales"
   ]
  },
  {
   "cell_type": "code",
   "execution_count": 2,
   "metadata": {},
   "outputs": [
    {
     "data": {
      "text/plain": [
       "matrix([[2. , 4. , 5. ],\n",
       "        [6. , 9. , 8. ],\n",
       "        [4.1, 5. , 3. ]])"
      ]
     },
     "execution_count": 2,
     "metadata": {},
     "output_type": "execute_result"
    }
   ],
   "source": [
    "#Definiendo la matriz con los coeficientes de las ecuaciones\n",
    "A1=matrix([[2,4,5],[6,9,8],[4.1,5,3]])\n",
    "A1"
   ]
  },
  {
   "cell_type": "code",
   "execution_count": 3,
   "metadata": {},
   "outputs": [
    {
     "data": {
      "text/plain": [
       "matrix([[220],\n",
       "        [490],\n",
       "        [274]])"
      ]
     },
     "execution_count": 3,
     "metadata": {},
     "output_type": "execute_result"
    }
   ],
   "source": [
    "#Definiendo el vector con los resultados de cada ecuación\n",
    "b=matrix([[220],[490],[274]])\n",
    "b"
   ]
  },
  {
   "cell_type": "code",
   "execution_count": 4,
   "metadata": {},
   "outputs": [
    {
     "data": {
      "text/plain": [
       "matrix([[40.],\n",
       "        [10.],\n",
       "        [20.]])"
      ]
     },
     "execution_count": 4,
     "metadata": {},
     "output_type": "execute_result"
    }
   ],
   "source": [
    "#Resolviendo el sistema de ecuaciones\n",
    "solution_matrix1=linalg.solve(A1,b)\n",
    "solution_matrix1"
   ]
  },
  {
   "cell_type": "markdown",
   "metadata": {},
   "source": [
    "### Solución al sistema de ecuaciones\n",
    "\n",
    "Los precios por hora para cada uno de los procesadores **A**, **B** y **C** son **40**, **10** y **20** respectivamente\n",
    "\n"
   ]
  },
  {
   "cell_type": "markdown",
   "metadata": {},
   "source": [
    "## 1.2. Resolver el nuevo sistema de ecuaciones"
   ]
  },
  {
   "cell_type": "code",
   "execution_count": 5,
   "metadata": {},
   "outputs": [
    {
     "data": {
      "text/plain": [
       "matrix([[2. , 4. , 5. ],\n",
       "        [6. , 9. , 8. ],\n",
       "        [4.2, 5. , 3. ]])"
      ]
     },
     "execution_count": 5,
     "metadata": {},
     "output_type": "execute_result"
    }
   ],
   "source": [
    "A2=matrix([[2,4,5],[6,9,8],[4.2,5,3]])\n",
    "A2"
   ]
  },
  {
   "cell_type": "code",
   "execution_count": 6,
   "metadata": {},
   "outputs": [
    {
     "data": {
      "text/plain": [
       "matrix([[20.        ],\n",
       "        [31.53846154],\n",
       "        [10.76923077]])"
      ]
     },
     "execution_count": 6,
     "metadata": {},
     "output_type": "execute_result"
    }
   ],
   "source": [
    "solution_matrix2=linalg.solve(A2,b)\n",
    "solution_matrix2"
   ]
  },
  {
   "cell_type": "markdown",
   "metadata": {},
   "source": [
    "### Solución al nuevo sistema de ecuaciones\n",
    "\n",
    "Los precios por hora para cada uno de los procesadores **A**, **B** y **C** son **20**, **31.53846** y **10.76923** respectivamente.\n",
    "\n",
    "### Analizando los cambios en los resultados.\n",
    "\n",
    "Es evidente que un pequeño cambio en los coeficientes del sistema, causan un gran cambio en los precios por hora de cada procesador. Esto se debe a que la *eliminación gaussiana* es muy sensible a cambios en los coeficientes de la matriz, a causa de que las operaciones entre filas amplifican el impacto de los errores.\n",
    "\n",
    "Por este motivo, hay que ser muy precisos en la definición de los sitemas de ecuaciones lineales en aplicaciones prácticas, para no obtener resultados sesgados.\n",
    "\n"
   ]
  },
  {
   "cell_type": "markdown",
   "metadata": {},
   "source": [
    "## Calculando la Cota superior del error relativo\n",
    "\n",
    "La cota superior del error relativo (`ε`) se puede definir como : **ε ≤ κ ⋅ δ**\n",
    "\n",
    "Donde:\n",
    "`k` es el número de condición de la matriz que se representa por ||A||₂ * ||A⁻¹||₂\n",
    "\n",
    "`δ` es el error relativo en los coeficientes de la matriz que se representa por  ||A1 - A2||₂ / ||A1||₂\n",
    "\n"
   ]
  },
  {
   "cell_type": "markdown",
   "metadata": {},
   "source": [
    "### Calculando la condición de la matriz\n",
    "\n",
    "Podemos hacer el calculo paso a paso o utilizar la función de numpy `linalg.cond`\n",
    "\n",
    "\n",
    "**Paso a paso**"
   ]
  },
  {
   "cell_type": "code",
   "execution_count": 7,
   "metadata": {},
   "outputs": [
    {
     "data": {
      "text/plain": [
       "matrix([[ 10.        , -10.        ,  10.        ],\n",
       "        [-11.38461538,  11.15384615, -10.76923077],\n",
       "        [  5.30769231,  -4.92307692,   4.61538462]])"
      ]
     },
     "execution_count": 7,
     "metadata": {},
     "output_type": "execute_result"
    }
   ],
   "source": [
    "# Realizando el calculo paso a paso\n",
    "\n",
    "##Calculando la matriz inversa del sistema de ecuaciones origial\n",
    "A1_I=A1.I\n",
    "A1_I\n"
   ]
  },
  {
   "cell_type": "code",
   "execution_count": 8,
   "metadata": {},
   "outputs": [
    {
     "data": {
      "text/plain": [
       "23.0"
      ]
     },
     "execution_count": 8,
     "metadata": {},
     "output_type": "execute_result"
    }
   ],
   "source": [
    "## Calculando la norma 2 de A1\n",
    "norm_A1 = np.linalg.norm(A1, ord=np.inf)  # en numpy la norma 2 es ord=infinito\n",
    "norm_A1"
   ]
  },
  {
   "cell_type": "code",
   "execution_count": 9,
   "metadata": {},
   "outputs": [
    {
     "data": {
      "text/plain": [
       "33.307692307692335"
      ]
     },
     "execution_count": 9,
     "metadata": {},
     "output_type": "execute_result"
    }
   ],
   "source": [
    "## Calculando la norma 2 de A1_I\n",
    "norm_A1_1=np.linalg.norm(A1_I, ord=np.inf)\n",
    "norm_A1_1"
   ]
  },
  {
   "cell_type": "code",
   "execution_count": 10,
   "metadata": {},
   "outputs": [
    {
     "data": {
      "text/plain": [
       "766.0769230769237"
      ]
     },
     "execution_count": 10,
     "metadata": {},
     "output_type": "execute_result"
    }
   ],
   "source": [
    "## Calculando el número de condición de la matriz\n",
    "k=norm_A1*norm_A1_1\n",
    "k"
   ]
  },
  {
   "cell_type": "markdown",
   "metadata": {},
   "source": [
    "**Usando la función de numpy**"
   ]
  },
  {
   "cell_type": "code",
   "execution_count": 11,
   "metadata": {},
   "outputs": [
    {
     "data": {
      "text/plain": [
       "766.0769230769237"
      ]
     },
     "execution_count": 11,
     "metadata": {},
     "output_type": "execute_result"
    }
   ],
   "source": [
    "cond_A1 = np.linalg.cond(A1, p=np.inf)  # Using norm 2\n",
    "cond_A1"
   ]
  },
  {
   "cell_type": "markdown",
   "metadata": {},
   "source": [
    "### Calculando el error relativo de coeficientes entre A1 y A2"
   ]
  },
  {
   "cell_type": "code",
   "execution_count": 12,
   "metadata": {},
   "outputs": [
    {
     "data": {
      "text/plain": [
       "0.004347826086956545"
      ]
     },
     "execution_count": 12,
     "metadata": {},
     "output_type": "execute_result"
    }
   ],
   "source": [
    "delta = np.linalg.norm(A1 - A2, ord=np.inf) / np.linalg.norm(A1, ord=np.inf)\n",
    "delta"
   ]
  },
  {
   "cell_type": "markdown",
   "metadata": {},
   "source": [
    "### Calculando el valor para `ε`"
   ]
  },
  {
   "cell_type": "code",
   "execution_count": 13,
   "metadata": {},
   "outputs": [
    {
     "name": "stdout",
     "output_type": "stream",
     "text": [
      "Número de condición (κ) de la matriz A1: 766.0769230769237\n",
      "Diferencia relativa (δ) entre A1 y A2: 0.004347826086956545\n",
      "Cota superior de error relativo (ε): 3.3307692307692514\n"
     ]
    }
   ],
   "source": [
    "epsilon = cond_A1 * delta\n",
    "\n",
    "print(f\"Número de condición (κ) de la matriz A1: {cond_A1}\")\n",
    "print(f\"Diferencia relativa (δ) entre A1 y A2: {delta}\")\n",
    "print(f\"Cota superior de error relativo (ε): {epsilon}\")"
   ]
  },
  {
   "cell_type": "markdown",
   "metadata": {},
   "source": [
    "## Conclusión\n",
    "\n",
    "#### La cota superior del error relativo, nos indica qué tan sensible es el sistema de ecuaciones a cambios en los coeficientes. En este caso, significa que el sistema es altamente sensible dado que se estima que la solución puede ser hasta 333.07% superior o inferior al valor real. En los casos en los que no tenemos dos matrices para calcular la diferencia relativa, el número de condición de la matriz es un buen indicador para conocer si ésta está mal condicionada y, por lo tanto, nos permite evaluar qué tan precisa puede ser para estimar valores reales."
   ]
  }
 ],
 "metadata": {
  "kernelspec": {
   "display_name": "Algebra_Taller2_Sebastian_David-0MNUXVjs",
   "language": "python",
   "name": "python3"
  },
  "language_info": {
   "codemirror_mode": {
    "name": "ipython",
    "version": 3
   },
   "file_extension": ".py",
   "mimetype": "text/x-python",
   "name": "python",
   "nbconvert_exporter": "python",
   "pygments_lexer": "ipython3",
   "version": "3.11.5"
  },
  "orig_nbformat": 4
 },
 "nbformat": 4,
 "nbformat_minor": 2
}
