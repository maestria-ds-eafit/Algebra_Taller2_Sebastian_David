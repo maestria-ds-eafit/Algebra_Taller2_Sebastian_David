{
 "cells": [
  {
   "cell_type": "markdown",
   "metadata": {},
   "source": [
    "Importando librerias"
   ]
  },
  {
   "cell_type": "code",
   "execution_count": 1,
   "metadata": {},
   "outputs": [],
   "source": [
    "import numpy as np\n",
    "import matplotlib.pyplot as plt\n"
   ]
  },
  {
   "cell_type": "markdown",
   "metadata": {},
   "source": [
    "Solución del problema:\n",
    "1.a"
   ]
  },
  {
   "cell_type": "markdown",
   "metadata": {},
   "source": [
    "Genero las ecuaciones"
   ]
  },
  {
   "cell_type": "code",
   "execution_count": 17,
   "metadata": {},
   "outputs": [],
   "source": [
    "A_1 = np.array([[2, 4, 5], [6, 9, 8], [4.1, 5, 3]])\n",
    "B_1 = np.array([220, 490, 274])"
   ]
  },
  {
   "cell_type": "markdown",
   "metadata": {},
   "source": [
    "Se le saca la inversa A y luego se multiplica por la misma matriz A, para sacar la matriz de identidad"
   ]
  },
  {
   "cell_type": "code",
   "execution_count": 40,
   "metadata": {},
   "outputs": [
    {
     "name": "stdout",
     "output_type": "stream",
     "text": [
      "[[ 1.00000000e+00 -7.10542736e-15 -7.10542736e-15]\n",
      " [-9.70164120e-16  1.00000000e+00  1.24344979e-14]\n",
      " [ 4.03096360e-16 -8.88178420e-16  1.00000000e+00]]\n"
     ]
    }
   ],
   "source": [
    "# Get the inverse of A\n",
    "A_inv_1 = np.linalg.inv(A_1)\n",
    "\n",
    "# Multiply the inverse of A by A\n",
    "result = np.dot(A_inv_1, A_1)\n",
    "\n",
    "# Print the result\n",
    "print(result)"
   ]
  },
  {
   "cell_type": "markdown",
   "metadata": {},
   "source": [
    "Multiplico la inversa de la Matriz A, por el vector B (Igualdad)"
   ]
  },
  {
   "cell_type": "code",
   "execution_count": 21,
   "metadata": {},
   "outputs": [
    {
     "data": {
      "text/plain": [
       "array([40., 10., 20.])"
      ]
     },
     "execution_count": 21,
     "metadata": {},
     "output_type": "execute_result"
    }
   ],
   "source": [
    "X_1 = np.linalg.inv(A_1).dot(B)\n",
    "X_1"
   ]
  },
  {
   "cell_type": "code",
   "execution_count": 22,
   "metadata": {},
   "outputs": [
    {
     "name": "stdout",
     "output_type": "stream",
     "text": [
      "The price per hour in processor A is: 39.99999999999967\n",
      "The price per hour in processor B is: 10.0000000000007\n",
      "The price per hour in processor C is: 20.000000000000057\n"
     ]
    }
   ],
   "source": [
    "print(\"The price per hour in processor A is:\", X_1[0])\n",
    "print(\"The price per hour in processor B is:\", X_1[1])\n",
    "print(\"The price per hour in processor C is:\", X_1[2])"
   ]
  },
  {
   "cell_type": "markdown",
   "metadata": {},
   "source": [
    "Solución del problema:\n",
    "1.b"
   ]
  },
  {
   "cell_type": "markdown",
   "metadata": {},
   "source": [
    "Se corrige el error generado por el estudiante en el sistema de ecuaciones"
   ]
  },
  {
   "cell_type": "code",
   "execution_count": 23,
   "metadata": {},
   "outputs": [],
   "source": [
    "A_2 = np.array([[2, 4, 5], [6, 9, 8], [4.2, 5, 3]])\n",
    "B_2 = np.array([220, 490, 274])\n",
    "X_2 = np.linalg.inv(A_2).dot(B_2)"
   ]
  },
  {
   "cell_type": "code",
   "execution_count": 41,
   "metadata": {},
   "outputs": [
    {
     "name": "stdout",
     "output_type": "stream",
     "text": [
      "[[ 1.00000000e+00 -1.77635684e-15 -8.88178420e-15]\n",
      " [ 1.09314267e-16  1.00000000e+00  8.88178420e-15]\n",
      " [ 1.29810692e-15 -8.88178420e-16  1.00000000e+00]]\n"
     ]
    }
   ],
   "source": [
    "# Get the inverse of A\n",
    "A_inv_2 = np.linalg.inv(A_2)\n",
    "\n",
    "# Multiply the inverse of A by A\n",
    "result = np.dot(A_inv_2, A_2)\n",
    "\n",
    "# Print the result\n",
    "print(result)"
   ]
  },
  {
   "cell_type": "code",
   "execution_count": 33,
   "metadata": {},
   "outputs": [
    {
     "data": {
      "text/plain": [
       "array([20.        , 31.53846154, 10.76923077])"
      ]
     },
     "execution_count": 33,
     "metadata": {},
     "output_type": "execute_result"
    }
   ],
   "source": [
    "x_2 = np.linalg.inv(A_2).dot(B_2)\n",
    "x_2"
   ]
  },
  {
   "cell_type": "code",
   "execution_count": 28,
   "metadata": {},
   "outputs": [
    {
     "name": "stdout",
     "output_type": "stream",
     "text": [
      "The price per hour in processor A is: 20.00000000000013\n",
      "The price per hour in processor B is: 31.538461538461764\n",
      "The price per hour in processor C is: 10.769230769230754\n"
     ]
    }
   ],
   "source": [
    "print(\"The price per hour in processor A is:\", x_2[0])\n",
    "print(\"The price per hour in processor B is:\", x_2[1])\n",
    "print(\"The price per hour in processor C is:\", x_2[2])"
   ]
  },
  {
   "cell_type": "markdown",
   "metadata": {},
   "source": [
    "Ahora vamos a calcular el error relativo de A "
   ]
  },
  {
   "cell_type": "code",
   "execution_count": 13,
   "metadata": {},
   "outputs": [],
   "source": [
    "def relative_error(x, y):\n",
    "    return abs(x - y) / abs(y)"
   ]
  },
  {
   "cell_type": "code",
   "execution_count": 14,
   "metadata": {},
   "outputs": [
    {
     "name": "stdout",
     "output_type": "stream",
     "text": [
      "0.9999999999999705\n"
     ]
    }
   ],
   "source": [
    "x = 39.99999999999967\n",
    "y = 20.00000000000013\n",
    "error = relative_error(x,y)\n",
    "print(error)"
   ]
  },
  {
   "cell_type": "markdown",
   "metadata": {},
   "source": [
    "Ahora vamos a calcular el error relativo de B"
   ]
  },
  {
   "cell_type": "code",
   "execution_count": 15,
   "metadata": {},
   "outputs": [
    {
     "name": "stdout",
     "output_type": "stream",
     "text": [
      "0.6829268292682728\n"
     ]
    }
   ],
   "source": [
    "x = 10.0000000000007\n",
    "y = 31.538461538461764\n",
    "error = relative_error(x,y)\n",
    "print(error)"
   ]
  },
  {
   "cell_type": "markdown",
   "metadata": {},
   "source": [
    "Ahora vamos a calcular el error relativo de c"
   ]
  },
  {
   "cell_type": "code",
   "execution_count": 16,
   "metadata": {},
   "outputs": [
    {
     "name": "stdout",
     "output_type": "stream",
     "text": [
      "0.8571428571428651\n"
     ]
    }
   ],
   "source": [
    "x = 20.000000000000057\n",
    "y = 10.769230769230754\n",
    "error = relative_error(x,y)\n",
    "print(error)"
   ]
  },
  {
   "cell_type": "markdown",
   "metadata": {},
   "source": [
    "La condición de una matriz, también conocida como número de condición, es una medida que se utiliza en el campo del análisis numérico para evaluar cuán sensible es una matriz a pequeños cambios en sus elementos o en sus términos de entrada"
   ]
  },
  {
   "cell_type": "markdown",
   "metadata": {},
   "source": [
    "Debemos de generar la condición de la matriz A y para esto debemos de hallar la norma de A\n",
    "\n",
    "||A|| * ||A^(-1)||"
   ]
  },
  {
   "cell_type": "code",
   "execution_count": 67,
   "metadata": {},
   "outputs": [
    {
     "data": {
      "text/plain": [
       "23.0"
      ]
     },
     "execution_count": 67,
     "metadata": {},
     "output_type": "execute_result"
    }
   ],
   "source": [
    "Norma_A_1 = np.linalg.norm(A_1, ord=np.inf)\n",
    "Norma_A_1"
   ]
  },
  {
   "cell_type": "code",
   "execution_count": 69,
   "metadata": {},
   "outputs": [
    {
     "data": {
      "text/plain": [
       "33.307692307692335"
      ]
     },
     "execution_count": 69,
     "metadata": {},
     "output_type": "execute_result"
    }
   ],
   "source": [
    "Norma_inv_A = np.linalg.norm(A_inv_1, ord=np.inf)\n",
    "Norma_inv_A"
   ]
  },
  {
   "cell_type": "code",
   "execution_count": 70,
   "metadata": {},
   "outputs": [
    {
     "data": {
      "text/plain": [
       "766.0769230769237"
      ]
     },
     "execution_count": 70,
     "metadata": {},
     "output_type": "execute_result"
    }
   ],
   "source": [
    "condicion_A = Norma_A_1 * Norma_inv_A\n",
    "condicion_A"
   ]
  },
  {
   "cell_type": "markdown",
   "metadata": {},
   "source": [
    "La cota superior superior para el error relativo seria:\n",
    "(∥x∥ / ∥Δx∥) ≤κ(A) * (∥ΔA∥/∥A∥)\n",
    "siendo k(A) = condicion​"
   ]
  },
  {
   "cell_type": "markdown",
   "metadata": {},
   "source": [
    "Sacando la diferencia entre A_1 y A_2 tenemos "
   ]
  },
  {
   "cell_type": "code",
   "execution_count": 71,
   "metadata": {},
   "outputs": [
    {
     "data": {
      "text/plain": [
       "array([[ 0. ,  0. ,  0. ],\n",
       "       [ 0. ,  0. ,  0. ],\n",
       "       [-0.1,  0. ,  0. ]])"
      ]
     },
     "execution_count": 71,
     "metadata": {},
     "output_type": "execute_result"
    }
   ],
   "source": [
    "diferencia_As = A_1 - A_2 \n",
    "diferencia_As"
   ]
  },
  {
   "cell_type": "markdown",
   "metadata": {},
   "source": [
    "La cuota superior seria"
   ]
  },
  {
   "cell_type": "code",
   "execution_count": 77,
   "metadata": {},
   "outputs": [
    {
     "data": {
      "text/plain": [
       "array([[ 0. ,  0. ,  0. ],\n",
       "       [ 0. ,  0. ,  0. ],\n",
       "       [-0.1,  0. ,  0. ]])"
      ]
     },
     "execution_count": 77,
     "metadata": {},
     "output_type": "execute_result"
    }
   ],
   "source": [
    "diferencia_As[]"
   ]
  },
  {
   "cell_type": "code",
   "execution_count": 83,
   "metadata": {},
   "outputs": [
    {
     "data": {
      "text/plain": [
       "array([[-0.1,  0. ,  0. ]])"
      ]
     },
     "execution_count": 83,
     "metadata": {},
     "output_type": "execute_result"
    }
   ],
   "source": [
    "cota_superior = diferencia_As[2:3]\n",
    "cota_superior"
   ]
  },
  {
   "cell_type": "code",
   "execution_count": 84,
   "metadata": {},
   "outputs": [
    {
     "data": {
      "text/plain": [
       "3.330769230769233"
      ]
     },
     "execution_count": 84,
     "metadata": {},
     "output_type": "execute_result"
    }
   ],
   "source": [
    "cota = condicion_A*(0.1/Norma_A_1)\n",
    "cota"
   ]
  }
 ],
 "metadata": {
  "kernelspec": {
   "display_name": "Algebra_Taller2_Sebastian_David-mHsW0iIa",
   "language": "python",
   "name": "python3"
  },
  "language_info": {
   "codemirror_mode": {
    "name": "ipython",
    "version": 3
   },
   "file_extension": ".py",
   "mimetype": "text/x-python",
   "name": "python",
   "nbconvert_exporter": "python",
   "pygments_lexer": "ipython3",
   "version": "3.11.5"
  },
  "orig_nbformat": 4
 },
 "nbformat": 4,
 "nbformat_minor": 2
}
