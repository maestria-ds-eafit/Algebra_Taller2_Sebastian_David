{
 "cells": [
  {
   "cell_type": "code",
   "execution_count": 10,
   "metadata": {},
   "outputs": [],
   "source": [
    "import numpy as np"
   ]
  },
  {
   "cell_type": "markdown",
   "metadata": {},
   "source": [
    "### Solución del problema:\n",
    "### 1.a"
   ]
  },
  {
   "cell_type": "markdown",
   "metadata": {},
   "source": [
    "Se genero las ecuaciones"
   ]
  },
  {
   "cell_type": "code",
   "execution_count": 16,
   "metadata": {},
   "outputs": [],
   "source": [
    "A_1 = np.array([[2, 4, 5], \n",
    "                [6, 9, 8], \n",
    "                [4.1, 5, 3]])\n",
    "B_1 = np.array([220, 490, 274])"
   ]
  },
  {
   "cell_type": "markdown",
   "metadata": {},
   "source": [
    "Se le saca la inversa A y luego se multiplica por la misma matriz A, para sacar la matriz de identidad"
   ]
  },
  {
   "cell_type": "code",
   "execution_count": 17,
   "metadata": {},
   "outputs": [
    {
     "name": "stdout",
     "output_type": "stream",
     "text": [
      "[[ 1.00000000e+00 -7.10542736e-15 -7.10542736e-15]\n",
      " [-9.70164120e-16  1.00000000e+00  1.24344979e-14]\n",
      " [ 4.03096360e-16 -8.88178420e-16  1.00000000e+00]]\n"
     ]
    }
   ],
   "source": [
    "# Get the inverse of A\n",
    "A_inv_1 = np.linalg.inv(A_1)\n",
    "\n",
    "# Multiply the inverse of A by A\n",
    "result = np.dot(A_inv_1, A_1)\n",
    "\n",
    "# Print the result\n",
    "print(result)"
   ]
  },
  {
   "cell_type": "markdown",
   "metadata": {},
   "source": [
    "Multiplico la inversa de la Matriz A, por el vector B (Igualdad)"
   ]
  },
  {
   "cell_type": "code",
   "execution_count": 18,
   "metadata": {},
   "outputs": [
    {
     "data": {
      "text/plain": [
       "array([40., 10., 20.])"
      ]
     },
     "execution_count": 18,
     "metadata": {},
     "output_type": "execute_result"
    }
   ],
   "source": [
    "X_1 = np.linalg.inv(A_1).dot(B_1)\n",
    "X_1"
   ]
  },
  {
   "cell_type": "markdown",
   "metadata": {},
   "source": [
    "Se optiene los precops por hora de los procesadores A, B y C"
   ]
  },
  {
   "cell_type": "code",
   "execution_count": 23,
   "metadata": {},
   "outputs": [
    {
     "name": "stdout",
     "output_type": "stream",
     "text": [
      "El precio por hora del procesador A es: 39.99999999999967\n",
      "El precio por hora del procesador B es: 10.0000000000007\n",
      "El precio por hora del procesador B es: 20.000000000000057\n"
     ]
    }
   ],
   "source": [
    "print(\"El precio por hora del procesador A es:\", X_1[0])\n",
    "print(\"El precio por hora del procesador B es:\", X_1[1])\n",
    "print(\"El precio por hora del procesador B es:\", X_1[2])"
   ]
  },
  {
   "cell_type": "markdown",
   "metadata": {},
   "source": [
    "### Solución del problema:\n",
    "### 1.b"
   ]
  },
  {
   "cell_type": "markdown",
   "metadata": {},
   "source": [
    "Se corrige el error generado por el estudiante en el sistema de ecuaciones"
   ]
  },
  {
   "cell_type": "code",
   "execution_count": 19,
   "metadata": {},
   "outputs": [],
   "source": [
    "A_2 = np.array([[2, 4, 5], \n",
    "                [6, 9, 8], \n",
    "                [4.2, 5, 3]])\n",
    "B_2 = np.array([220, 490, 274])\n",
    "X_2 = np.linalg.inv(A_2).dot(B_2)"
   ]
  },
  {
   "cell_type": "code",
   "execution_count": 20,
   "metadata": {},
   "outputs": [
    {
     "name": "stdout",
     "output_type": "stream",
     "text": [
      "[[ 1.00000000e+00 -1.77635684e-15 -8.88178420e-15]\n",
      " [ 1.09314267e-16  1.00000000e+00  8.88178420e-15]\n",
      " [ 1.29810692e-15 -8.88178420e-16  1.00000000e+00]]\n"
     ]
    }
   ],
   "source": [
    "# Get the inverse of A\n",
    "A_inv_2 = np.linalg.inv(A_2)\n",
    "\n",
    "# Multiply the inverse of A by A\n",
    "result = np.dot(A_inv_2, A_2)\n",
    "\n",
    "# Print the result\n",
    "print(result)"
   ]
  },
  {
   "cell_type": "code",
   "execution_count": 21,
   "metadata": {},
   "outputs": [
    {
     "data": {
      "text/plain": [
       "array([20.        , 31.53846154, 10.76923077])"
      ]
     },
     "execution_count": 21,
     "metadata": {},
     "output_type": "execute_result"
    }
   ],
   "source": [
    "x_2 = np.linalg.inv(A_2).dot(B_2)\n",
    "x_2"
   ]
  },
  {
   "cell_type": "code",
   "execution_count": 24,
   "metadata": {},
   "outputs": [
    {
     "name": "stdout",
     "output_type": "stream",
     "text": [
      "El precio por hora del procesador A es: 20.00000000000013\n",
      "El precio por hora del procesador B es: 31.538461538461764\n",
      "El precio por hora del procesador C es: 10.769230769230754\n"
     ]
    }
   ],
   "source": [
    "print(\"El precio por hora del procesador A es:\", x_2[0])\n",
    "print(\"El precio por hora del procesador B es:\", x_2[1])\n",
    "print(\"El precio por hora del procesador C es:\", x_2[2])"
   ]
  },
  {
   "cell_type": "markdown",
   "metadata": {},
   "source": [
    "Ahora vamos a calcular el error relativo del precio por hora del procesador A\n",
    "siendo  x=39.99999999999967 y y=20.00000000000013 los resultados de los sistemas de ecuaciones solucionados"
   ]
  },
  {
   "cell_type": "code",
   "execution_count": 25,
   "metadata": {},
   "outputs": [],
   "source": [
    "def relative_error(x, y):\n",
    "    return abs(x - y) / abs(y)"
   ]
  },
  {
   "cell_type": "code",
   "execution_count": 26,
   "metadata": {},
   "outputs": [
    {
     "name": "stdout",
     "output_type": "stream",
     "text": [
      "0.9999999999999705\n"
     ]
    }
   ],
   "source": [
    "x = 39.99999999999967\n",
    "y = 20.00000000000013\n",
    "error = relative_error(x,y)\n",
    "print(error)"
   ]
  },
  {
   "cell_type": "markdown",
   "metadata": {},
   "source": [
    "Ahora vamos a calcular el error relativo del precio por hora del procesador B\n",
    "siendo  x=10.0000000000007 y y=31.538461538461764 los resultados de los sistemas de ecuaciones solucionados "
   ]
  },
  {
   "cell_type": "code",
   "execution_count": 27,
   "metadata": {},
   "outputs": [
    {
     "name": "stdout",
     "output_type": "stream",
     "text": [
      "0.6829268292682728\n"
     ]
    }
   ],
   "source": [
    "x = 10.0000000000007\n",
    "y = 31.538461538461764\n",
    "error = relative_error(x,y)\n",
    "print(error)"
   ]
  },
  {
   "cell_type": "markdown",
   "metadata": {},
   "source": [
    "Ahora vamos a calcular el error relativo del precio por hora del procesador C\n",
    "siendo  x=20.000000000000057 y y=10.769230769230754 los resultados de los sistemas de ecuaciones solucionados "
   ]
  },
  {
   "cell_type": "code",
   "execution_count": 28,
   "metadata": {},
   "outputs": [
    {
     "name": "stdout",
     "output_type": "stream",
     "text": [
      "0.8571428571428651\n"
     ]
    }
   ],
   "source": [
    "x = 20.000000000000057\n",
    "y = 10.769230769230754\n",
    "error = relative_error(x,y)\n",
    "print(error)"
   ]
  },
  {
   "cell_type": "markdown",
   "metadata": {},
   "source": [
    "Dando respueta a la pregunta <span style=\"color:green\"> Resuelva el sistema para ver como cambia el\n",
    "valor de la hora en cada procesador, antes y después del error. Explique\n",
    "si el cambio es grande o no y por qué se da este cambio. </span>\n",
    "\n",
    "El cambio es grande, ya que el error relativo de cada una de las soluciones no esta dando muy alto, por lo general se busca minimizar el error relativo para obtener una medida o cálculo más precisa y confiable"
   ]
  },
  {
   "cell_type": "markdown",
   "metadata": {},
   "source": []
  },
  {
   "cell_type": "markdown",
   "metadata": {},
   "source": [
    "Ahora dando solución a <span style=\"color:green\"> Consulte una\n",
    "cota superior para el error relativo en la solución de un sistema cuando\n",
    "hay un cambio en los coeficientes de la matriz del sistema. </span>\n",
    "\n",
    "Para calcular la cota superior superior para el error relativo seria:\n",
    "\n",
    "(∥x∥ / ∥Δx∥) ≤ κ(A) * (∥ΔA∥ / ∥A∥)\n",
    "\n",
    "siendo k(A) = condicion​"
   ]
  },
  {
   "cell_type": "markdown",
   "metadata": {},
   "source": [
    "La condición de una matriz, también conocida como número de condición, es una medida que se utiliza en el campo del análisis numérico para evaluar cuán sensible es una matriz a pequeños cambios en sus elementos o en sus términos de entrada"
   ]
  },
  {
   "cell_type": "markdown",
   "metadata": {},
   "source": [
    "Debemos de generar la condición de la matriz A y para esto debemos de hallar la norma de A, por la norma de la matriz inversa de A\n",
    "\n",
    "||A|| * ||A^(-1)||"
   ]
  },
  {
   "cell_type": "code",
   "execution_count": 4,
   "metadata": {},
   "outputs": [],
   "source": [
    "A1 = np.array([[2, 4, 5], \n",
    "                [6, 9, 8], \n",
    "                [4.1, 5, 3]])\n",
    "\n",
    "A2 = np.array([[2, 4, 5], \n",
    "               [6, 9, 8], \n",
    "               [4.2, 5, 3]])"
   ]
  },
  {
   "cell_type": "markdown",
   "metadata": {},
   "source": [
    "Ahora calcula la condición de la matiz A1"
   ]
  },
  {
   "cell_type": "code",
   "execution_count": 6,
   "metadata": {},
   "outputs": [],
   "source": [
    "cond_A1 = np.linalg.cond(A1, p=np.inf) # Usamos la norma 2 o infinita de matrices"
   ]
  },
  {
   "cell_type": "markdown",
   "metadata": {},
   "source": [
    "Ahora calculamos la diferencia relativa entre A1 y A2 sobre la norma de A1"
   ]
  },
  {
   "cell_type": "code",
   "execution_count": 7,
   "metadata": {},
   "outputs": [],
   "source": [
    "delta = np.linalg.norm(A1 - A2, ord=np.inf) / np.linalg.norm(A1, ord=np.inf)"
   ]
  },
  {
   "cell_type": "markdown",
   "metadata": {},
   "source": [
    "Ahora se calcula el limite superior para el error relativo de Epsilon (cota suprior)"
   ]
  },
  {
   "cell_type": "code",
   "execution_count": 8,
   "metadata": {},
   "outputs": [],
   "source": [
    "epsilon = cond_A1 * delta"
   ]
  },
  {
   "cell_type": "code",
   "execution_count": 9,
   "metadata": {},
   "outputs": [
    {
     "name": "stdout",
     "output_type": "stream",
     "text": [
      "La condición de la matriz A1: 766.0769230769237\n",
      "La diferencia relativa entre A1 y A2: 0.004347826086956545\n",
      "El limite superior del error relativo es: 3.3307692307692514\n"
     ]
    }
   ],
   "source": [
    "print(\"La condición de la matriz A1:\", cond_A1)\n",
    "print(\"La diferencia relativa entre A1 y A2:\", delta)\n",
    "print(\"El limite superior o cota superior del error relativo es:\", epsilon )"
   ]
  },
  {
   "cell_type": "markdown",
   "metadata": {},
   "source": [
    "R/ Como se puede ver la cota superior dio como resultado 3.3307692307692514 es que la matriz es muy sensible a pequeños cambios"
   ]
  },
  {
   "cell_type": "markdown",
   "metadata": {},
   "source": [
    "Ahora dando respuesta a <span style=\"color:green\"> Luego\n",
    "calcule una cota superior para el error relativo en el valor de la hora\n",
    "en los procesadores. </span>\n",
    "\n",
    "Dado un vector de referencia A y un vector de aproximación B, el error relativo se puede calcular de la siguiente manera:\n",
    "\n",
    "error relativo= ∥a∥ / ∥a−b∥\n",
    "\n",
    "Y para calcular la cota superior se puede utilizar la desigualdad triangular y las propiedades de la norma\n",
    "\n",
    "La cota superior para el error relativo se puede calcular de la siguiente manera:\n",
    "\n",
    "cota superior del error relativo=  ∥a−b∥ / ∥a∥ ≤ ∥a∥+∥b∥ / ∥a∥"
   ]
  },
  {
   "cell_type": "code",
   "execution_count": 30,
   "metadata": {},
   "outputs": [
    {
     "data": {
      "text/plain": [
       "array([40., 10., 20.])"
      ]
     },
     "execution_count": 30,
     "metadata": {},
     "output_type": "execute_result"
    }
   ],
   "source": [
    "Vector_A = np.array([39.99999999999967, 10.0000000000007, 20.000000000000057])\n",
    "Vector_A"
   ]
  },
  {
   "cell_type": "code",
   "execution_count": 31,
   "metadata": {},
   "outputs": [
    {
     "data": {
      "text/plain": [
       "array([20.        , 31.53846154, 10.76923077])"
      ]
     },
     "execution_count": 31,
     "metadata": {},
     "output_type": "execute_result"
    }
   ],
   "source": [
    "Vector_B = np.array([20.00000000000013, 31.538461538461764, 10.769230769230754])\n",
    "Vector_B"
   ]
  },
  {
   "cell_type": "code",
   "execution_count": 33,
   "metadata": {},
   "outputs": [
    {
     "data": {
      "text/plain": [
       "array([0.5       , 2.15384615, 0.46153846])"
      ]
     },
     "execution_count": 33,
     "metadata": {},
     "output_type": "execute_result"
    }
   ],
   "source": [
    "error_relativo= np.abs(Vector_A - Vector_B) / np.abs(Vector_A)\n",
    "error_relativo"
   ]
  },
  {
   "cell_type": "code",
   "execution_count": 38,
   "metadata": {},
   "outputs": [
    {
     "data": {
      "text/plain": [
       "2.2587764400038135"
      ]
     },
     "execution_count": 38,
     "metadata": {},
     "output_type": "execute_result"
    }
   ],
   "source": [
    "cota_superior_del_valor = np.linalg.norm(error_relativo, ord=2)\n",
    "cota_superior_del_valor"
   ]
  },
  {
   "cell_type": "markdown",
   "metadata": {},
   "source": [
    "R/ Como se puede ver la cota superior dio como resultado 2.2587764400038135 es que vector es muy sensible a pequeños cambios"
   ]
  }
 ],
 "metadata": {
  "kernelspec": {
   "display_name": "Algebra_Taller2_Sebastian_David-mHsW0iIa",
   "language": "python",
   "name": "python3"
  },
  "language_info": {
   "codemirror_mode": {
    "name": "ipython",
    "version": 3
   },
   "file_extension": ".py",
   "mimetype": "text/x-python",
   "name": "python",
   "nbconvert_exporter": "python",
   "pygments_lexer": "ipython3",
   "version": "3.11.5"
  },
  "orig_nbformat": 4
 },
 "nbformat": 4,
 "nbformat_minor": 2
}
