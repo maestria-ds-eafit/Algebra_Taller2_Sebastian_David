{
 "cells": [
  {
   "cell_type": "markdown",
   "metadata": {},
   "source": [
    "## Metodo con Matrices triangulares A = L.U"
   ]
  },
  {
   "cell_type": "markdown",
   "metadata": {},
   "source": [
    "El objetivo de este notebook es resolver un problema de sistema de ecuaciones lineales utilizando el metodo de factorización A = LU, donde L es la matriz tringular inferior y U es la matriz triangular superior\n"
   ]
  },
  {
   "cell_type": "code",
   "execution_count": 141,
   "metadata": {},
   "outputs": [],
   "source": [
    "import numpy as np\n",
    "import random"
   ]
  },
  {
   "cell_type": "code",
   "execution_count": 142,
   "metadata": {},
   "outputs": [
    {
     "name": "stdout",
     "output_type": "stream",
     "text": [
      "Matriz:\n",
      "[[7 3 9]\n",
      " [8 2 9]\n",
      " [3 3 1]]\n",
      "Vector:\n",
      "[2 4 7]\n"
     ]
    }
   ],
   "source": [
    "n = random.randint(2, 4)\n",
    "A = np.random.randint(1, 10, size=(n, n))\n",
    "\n",
    "# Generar un vector aleatorio de longitud n\n",
    "B = np.random.randint(1, 10, size=n)\n",
    "\n",
    "print(\"Matriz:\")\n",
    "print(A)\n",
    "print(\"Vector:\")\n",
    "print(B)"
   ]
  },
  {
   "cell_type": "code",
   "execution_count": 143,
   "metadata": {},
   "outputs": [],
   "source": [
    "# #A = np.array([[ 3. , -0.1, -0.2],\n",
    "#               [ 0.1,  7. , -0.3],\n",
    "#               [ 0.3, -0.2, 10. ]], dtype=float)\n",
    "\n",
    "# #B = np.array([7.85,-19.3,71.4], dtype=float)"
   ]
  },
  {
   "cell_type": "code",
   "execution_count": 144,
   "metadata": {},
   "outputs": [],
   "source": [
    "B  = np.transpose([B]) # Se transpone el vector para poder hacer la concatenación con la matriz\n",
    "AB = np.concatenate((A,B),axis=1) # Se concatena la matriz con el vector\n",
    "AB = np.copy(AB)  # Se genera una copia de la matriz aumentada"
   ]
  },
  {
   "cell_type": "code",
   "execution_count": 145,
   "metadata": {},
   "outputs": [],
   "source": [
    "# Pivoteo parcial por filas\n",
    "tamano = np.shape(AB)\n",
    "n = tamano[0]\n",
    "m = tamano[1]"
   ]
  },
  {
   "cell_type": "markdown",
   "metadata": {},
   "source": [
    "Luego debemos de intercambiar las filas en la matriz extendida AB para asegurarse de que el elemento en la posición, i,i (el pivote) sea el mayor en valor absoluto en su columna. Esto ayuda a evitar divisiones por cero y mejora la estabilidad numérica del algoritmo de eliminación hacia adelante."
   ]
  },
  {
   "cell_type": "code",
   "execution_count": 146,
   "metadata": {},
   "outputs": [],
   "source": [
    "# Para cada fila en AB\n",
    "for i in range(0,n-1,1): # Para cada fila en AB, se comienza desde la primer fila hasta la penultima fila\n",
    "\n",
    "    # columna desde diagonal i en adelante\n",
    "    columna = abs(AB[i:,i]) # Se optine la columna correspondiente al pivote en valor absoluto\n",
    "    dondemax = np.argmax(columna)# Se encuentra la posición del elemento máximo en la columna\n",
    "\n",
    "    # Si la posición del elemento máximo no es 0(es decir, el elemto máximo no esta en la diagonal), se intercambian las filas i y dondemax + i\n",
    "    # dondemax no está en diagonal\n",
    "    if (dondemax !=0):\n",
    "        # intercambia filas\n",
    "        temporal = np.copy(AB[i,:])\n",
    "        AB[i,:] = AB[dondemax+i,:]\n",
    "        AB[dondemax+i,:] = temporal\n",
    "\n",
    "AB1 = np.copy(AB)\n",
    "A1 = np.copy(AB[:,:m-1])\n",
    "B1 = np.copy(AB[:,m-1])"
   ]
  },
  {
   "cell_type": "code",
   "execution_count": 147,
   "metadata": {},
   "outputs": [
    {
     "data": {
      "text/plain": [
       "array([[8, 2, 9, 4],\n",
       "       [7, 3, 9, 2],\n",
       "       [3, 3, 1, 7]])"
      ]
     },
     "execution_count": 147,
     "metadata": {},
     "output_type": "execute_result"
    }
   ],
   "source": [
    "AB1  # Matriz reemplazada\n"
   ]
  },
  {
   "cell_type": "code",
   "execution_count": 148,
   "metadata": {},
   "outputs": [
    {
     "data": {
      "text/plain": [
       "array([[8, 2, 9],\n",
       "       [7, 3, 9],\n",
       "       [3, 3, 1]])"
      ]
     },
     "execution_count": 148,
     "metadata": {},
     "output_type": "execute_result"
    }
   ],
   "source": [
    "A1 # Matriz reemplazada ni el vector inicial "
   ]
  },
  {
   "cell_type": "code",
   "execution_count": 149,
   "metadata": {},
   "outputs": [
    {
     "data": {
      "text/plain": [
       "array([4, 2, 7])"
      ]
     },
     "execution_count": 149,
     "metadata": {},
     "output_type": "execute_result"
    }
   ],
   "source": [
    "B1 ## Vector resultado inicial "
   ]
  },
  {
   "cell_type": "markdown",
   "metadata": {},
   "source": [
    "Realizamos la eliminación hacia adelante en la matriz extendida AB para convertirla en una matriz triangular superior. Al mismo tiempo, se construye una matriz L que contiene los factores de multiplicación utilizados en cada paso de la eliminación hacia adelante. La matriz L es una matriz triangular inferior con unos en la diagonal principal."
   ]
  },
  {
   "cell_type": "code",
   "execution_count": 150,
   "metadata": {},
   "outputs": [],
   "source": [
    "# eliminacion hacia adelante\n",
    "# se inicializa L\n",
    "L = np.identity(n,dtype=float)\n",
    "for i in range(0,n-1,1):\n",
    "    pivote = AB[i,i]\n",
    "    adelante = i+1\n",
    "    for k in range(adelante,n,1):\n",
    "        factor = AB[k,i]/pivote\n",
    "        AB[k,:] = AB[k,:] - AB[i,:]*factor\n",
    "        L[k,i] = factor\n",
    "\n",
    "U = np.copy(AB[:,:m-1])"
   ]
  },
  {
   "cell_type": "code",
   "execution_count": 151,
   "metadata": {},
   "outputs": [
    {
     "data": {
      "text/plain": [
       "array([[ 8,  2,  9],\n",
       "       [ 0,  1,  1],\n",
       "       [ 0,  0, -4]])"
      ]
     },
     "execution_count": 151,
     "metadata": {},
     "output_type": "execute_result"
    }
   ],
   "source": [
    "U # Triangular superior"
   ]
  },
  {
   "cell_type": "code",
   "execution_count": 152,
   "metadata": {},
   "outputs": [
    {
     "data": {
      "text/plain": [
       "array([[1.   , 0.   , 0.   ],\n",
       "       [0.875, 1.   , 0.   ],\n",
       "       [0.375, 2.   , 1.   ]])"
      ]
     },
     "execution_count": 152,
     "metadata": {},
     "output_type": "execute_result"
    }
   ],
   "source": [
    "L # Triangular inferior"
   ]
  },
  {
   "cell_type": "code",
   "execution_count": 153,
   "metadata": {},
   "outputs": [],
   "source": [
    "# Resolver LY = B   donde Y = B1\n",
    "B1  = np.transpose([B1])\n",
    "AB =np.concatenate((L,B1),axis=1)"
   ]
  },
  {
   "cell_type": "code",
   "execution_count": 154,
   "metadata": {},
   "outputs": [
    {
     "data": {
      "text/plain": [
       "array([[1.   , 0.   , 0.   , 4.   ],\n",
       "       [0.875, 1.   , 0.   , 2.   ],\n",
       "       [0.375, 2.   , 1.   , 7.   ]])"
      ]
     },
     "execution_count": 154,
     "metadata": {},
     "output_type": "execute_result"
    }
   ],
   "source": [
    "AB   # AB = LY "
   ]
  },
  {
   "cell_type": "code",
   "execution_count": 155,
   "metadata": {},
   "outputs": [
    {
     "data": {
      "text/plain": [
       "array([[ 4. ],\n",
       "       [-1.5],\n",
       "       [ 8.5]])"
      ]
     },
     "execution_count": 155,
     "metadata": {},
     "output_type": "execute_result"
    }
   ],
   "source": [
    "# Vamos a resolver LY\n",
    "# sustitución hacia adelante\n",
    "Y = np.zeros(n,dtype=float)\n",
    "Y[0] = AB[0,n]\n",
    "for i in range(1,n,1):\n",
    "    suma = 0\n",
    "    for j in range(0,i,1):\n",
    "        suma = suma + AB[i,j]*Y[j]\n",
    "    b = AB[i,n]\n",
    "    Y[i] = (b-suma)/AB[i,i]\n",
    "\n",
    "Y = np.transpose([Y])\n",
    "Y"
   ]
  },
  {
   "cell_type": "code",
   "execution_count": 156,
   "metadata": {},
   "outputs": [
    {
     "data": {
      "text/plain": [
       "array([[ 8. ,  2. ,  9. ,  4. ],\n",
       "       [ 0. ,  1. ,  1. , -1.5],\n",
       "       [ 0. ,  0. , -4. ,  8.5]])"
      ]
     },
     "execution_count": 156,
     "metadata": {},
     "output_type": "execute_result"
    }
   ],
   "source": [
    "# Resolver UX = Y   donde Y=B1\n",
    "AB =np.concatenate((U,Y),axis=1)\n",
    "AB"
   ]
  },
  {
   "cell_type": "code",
   "execution_count": 157,
   "metadata": {},
   "outputs": [
    {
     "data": {
      "text/plain": [
       "array([[ 2.734375],\n",
       "       [ 0.625   ],\n",
       "       [-2.125   ]])"
      ]
     },
     "execution_count": 157,
     "metadata": {},
     "output_type": "execute_result"
    }
   ],
   "source": [
    "# sustitución hacia atrás\n",
    "ultfila = n-1\n",
    "ultcolumna = m-1\n",
    "X = np.zeros(n,dtype=float)\n",
    "\n",
    "for i in range(ultfila,0-1,-1):\n",
    "    suma = 0\n",
    "    for j in range(i+1,ultcolumna,1):\n",
    "        suma = suma + AB[i,j]*X[j]\n",
    "    b = AB[i,ultcolumna]\n",
    "    X[i] = (b-suma)/AB[i,i]\n",
    "\n",
    "X = np.transpose([X])\n",
    "X"
   ]
  },
  {
   "cell_type": "code",
   "execution_count": 159,
   "metadata": {},
   "outputs": [
    {
     "name": "stdout",
     "output_type": "stream",
     "text": [
      "Pivoteo parcial por filas: AB\n",
      "[[8 2 9 4]\n",
      " [7 3 9 2]\n",
      " [3 3 1 7]]\n",
      "eliminación hacia adelante\n",
      "Matriz U: \n",
      "[[ 8  2  9]\n",
      " [ 0  1  1]\n",
      " [ 0  0 -4]]\n",
      "matriz L: \n",
      "[[1.    0.    0.   ]\n",
      " [0.875 1.    0.   ]\n",
      " [0.375 2.    1.   ]]\n",
      "B1 :\n",
      "[[4]\n",
      " [2]\n",
      " [7]]\n",
      "Y Sustitución hacia adelante - Solución\n",
      "[[ 4. ]\n",
      " [-1.5]\n",
      " [ 8.5]]\n",
      "X Sustitución hacia atras - Solución\n",
      "[[ 2.734375]\n",
      " [ 0.625   ]\n",
      " [-2.125   ]]\n"
     ]
    }
   ],
   "source": [
    "# SALIDA\n",
    "print('Pivoteo parcial por filas: AB')\n",
    "print(AB1)\n",
    "print('eliminación hacia adelante')\n",
    "print('Matriz U: ')\n",
    "print(U)\n",
    "print('matriz L: ')\n",
    "print(L)\n",
    "print('B1 :')\n",
    "print(B1)\n",
    "print(\"Y Sustitución hacia adelante - Solución\")\n",
    "print(Y)\n",
    "print('X Sustitución hacia atras - Solución')\n",
    "print(X)"
   ]
  }
 ],
 "metadata": {
  "kernelspec": {
   "display_name": "Algebra_Taller2_Sebastian_David-mHsW0iIa",
   "language": "python",
   "name": "python3"
  },
  "language_info": {
   "codemirror_mode": {
    "name": "ipython",
    "version": 3
   },
   "file_extension": ".py",
   "mimetype": "text/x-python",
   "name": "python",
   "nbconvert_exporter": "python",
   "pygments_lexer": "ipython3",
   "version": "3.11.5"
  },
  "orig_nbformat": 4
 },
 "nbformat": 4,
 "nbformat_minor": 2
}
