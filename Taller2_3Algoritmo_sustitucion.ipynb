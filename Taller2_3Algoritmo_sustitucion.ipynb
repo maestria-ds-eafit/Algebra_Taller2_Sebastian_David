{
 "cells": [
  {
   "cell_type": "code",
   "execution_count": 1,
   "metadata": {},
   "outputs": [],
   "source": [
    "import numpy as np"
   ]
  },
  {
   "cell_type": "markdown",
   "metadata": {},
   "source": [
    "## Matrices triangulares con A = LU"
   ]
  },
  {
   "cell_type": "code",
   "execution_count": 2,
   "metadata": {},
   "outputs": [],
   "source": [
    "A = np.array([[ 3. , -0.1, -0.2],\n",
    "              [ 0.1,  7. , -0.3],\n",
    "              [ 0.3, -0.2, 10. ]], dtype=float)\n",
    "\n",
    "B = np.array([7.85,-19.3,71.4], dtype=float)"
   ]
  },
  {
   "cell_type": "code",
   "execution_count": 3,
   "metadata": {},
   "outputs": [],
   "source": [
    "# A = np.array([[ 1.0, 0.0, 0.0],\n",
    "#               [ 0.03333333, 1.0, 0.0],\n",
    "#               [ 0.1, -0.02712994, 1.0 ]], dtype=float)\n",
    "\n",
    "# B = np.array([20.0, 31.538461538461764, 10.769230769230754], dtype=float)"
   ]
  },
  {
   "cell_type": "code",
   "execution_count": 4,
   "metadata": {},
   "outputs": [],
   "source": [
    "# PROCEDIMIENTO\n",
    "B  = np.transpose([B]) # Se transpone el vector para poder hacer la concatenación con la matriz\n",
    "AB = np.concatenate((A,B),axis=1) # Se concatena la matriz con el vector\n",
    "AB = np.copy(AB) # Se genera una copia de la matriz aumentada"
   ]
  },
  {
   "cell_type": "code",
   "execution_count": 5,
   "metadata": {},
   "outputs": [],
   "source": [
    "# Pivoteo parcial por filas\n",
    "tamano = np.shape(AB)\n",
    "n = tamano[0]\n",
    "m = tamano[1]"
   ]
  },
  {
   "cell_type": "markdown",
   "metadata": {},
   "source": [
    "Luego debemos de intercambiar las filas en la matriz extendida AB para asegurarse de que el elemento en la posición, i,i (el pivote) sea el mayor en valor absoluto en su columna. Esto ayuda a evitar divisiones por cero y mejora la estabilidad numérica del algoritmo de eliminación hacia adelante."
   ]
  },
  {
   "cell_type": "code",
   "execution_count": 6,
   "metadata": {},
   "outputs": [],
   "source": [
    "# Para cada fila en AB\n",
    "for i in range(0,n-1,1):  # Para cada fila en AB, se comienza desde la primer fila hasta la penultima fila\n",
    "\n",
    "    # columna desde diagonal i en adelante\n",
    "    columna = abs(AB[i:,i])  # Se optine la columna correspondiente al pivote en valor absoluto\n",
    "    dondemax = np.argmax(columna) # Se encuentra la posición del elemento máximo en la columna\n",
    "\n",
    "    # Si la posición del elemento máximo no es 0(es decir, el elemto máximo no esta en la diagonal), se intercambian las filas i y dondemax + i\n",
    "    # dondemax no está en diagonal\n",
    "    if (dondemax !=0):\n",
    "        # intercambia filas\n",
    "        temporal = np.copy(AB[i,:])\n",
    "        AB[i,:] = AB[dondemax+i,:]\n",
    "        AB[dondemax+i,:] = temporal\n",
    "\n",
    "AB1 = np.copy(AB)\n",
    "A1 = np.copy(AB[:,:m-1])\n",
    "B1 = np.copy(AB[:,m-1])"
   ]
  },
  {
   "cell_type": "markdown",
   "metadata": {},
   "source": [
    "Realizamos la eliminación hacia adelante en la matriz extendida AB para convertirla en una matriz triangular superior. Al mismo tiempo, se construye una matriz L que contiene los factores de multiplicación utilizados en cada paso de la eliminación hacia adelante. La matriz L es una matriz triangular inferior con unos en la diagonal principal."
   ]
  },
  {
   "cell_type": "code",
   "execution_count": 7,
   "metadata": {},
   "outputs": [],
   "source": [
    "# eliminacion hacia adelante\n",
    "# se inicializa L\n",
    "L = np.identity(n,dtype=float)\n",
    "for i in range(0,n-1,1):\n",
    "    pivote = AB[i,i]\n",
    "    adelante = i+1\n",
    "    for k in range(adelante,n,1):\n",
    "        factor = AB[k,i]/pivote\n",
    "        AB[k,:] = AB[k,:] - AB[i,:]*factor\n",
    "        L[k,i] = factor\n",
    "\n",
    "U = np.copy(AB[:,:m-1])"
   ]
  },
  {
   "cell_type": "markdown",
   "metadata": {},
   "source": [
    "Por ultimo se optiene U y L: Después de completar la eliminación hacia adelante, las matrices U y L se extraen de la matriz extendida AB. La matriz U es la parte triangular superior de AB sin la última columna, y la matriz \n",
    "L es la parte triangular inferior de AB con unos en la diagonal principal."
   ]
  },
  {
   "cell_type": "code",
   "execution_count": 8,
   "metadata": {},
   "outputs": [
    {
     "name": "stdout",
     "output_type": "stream",
     "text": [
      "Pivoteo parcial por filas\n",
      "[[  3.    -0.1   -0.2    7.85]\n",
      " [  0.1    7.    -0.3  -19.3 ]\n",
      " [  0.3   -0.2   10.    71.4 ]]\n",
      "eliminación hacia adelante\n",
      "Matriz U: \n",
      "[[ 3.         -0.1        -0.2       ]\n",
      " [ 0.          7.00333333 -0.29333333]\n",
      " [ 0.          0.         10.01204188]]\n",
      "matriz L: \n",
      "[[ 1.          0.          0.        ]\n",
      " [ 0.03333333  1.          0.        ]\n",
      " [ 0.1        -0.02712994  1.        ]]\n"
     ]
    }
   ],
   "source": [
    "print('Pivoteo parcial por filas')\n",
    "print(AB1)\n",
    "print('eliminación hacia adelante')\n",
    "print('Matriz U: ')\n",
    "print(U)\n",
    "print('matriz L: ')\n",
    "print(L)"
   ]
  },
  {
   "cell_type": "markdown",
   "metadata": {},
   "source": [
    "## Metodo con Matrices triangulares A = L.U"
   ]
  },
  {
   "cell_type": "code",
   "execution_count": 9,
   "metadata": {},
   "outputs": [],
   "source": [
    "A = np.array([[ 3. , -0.1, -0.2],\n",
    "              [ 0.1,  7. , -0.3],\n",
    "              [ 0.3, -0.2, 10. ]], dtype=float)\n",
    "\n",
    "B = np.array([7.85,-19.3,71.4], dtype=float)"
   ]
  },
  {
   "cell_type": "code",
   "execution_count": 10,
   "metadata": {},
   "outputs": [],
   "source": [
    "B  = np.transpose([B])\n",
    "AB = np.concatenate((A,B),axis=1)\n",
    "AB = np.copy(AB)"
   ]
  },
  {
   "cell_type": "code",
   "execution_count": 11,
   "metadata": {},
   "outputs": [],
   "source": [
    "# Pivoteo parcial por filas\n",
    "tamano = np.shape(AB)\n",
    "n = tamano[0]\n",
    "m = tamano[1]"
   ]
  },
  {
   "cell_type": "code",
   "execution_count": 12,
   "metadata": {},
   "outputs": [],
   "source": [
    "# Para cada fila en AB\n",
    "for i in range(0,n-1,1):\n",
    "\n",
    "    # columna desde diagonal i en adelante\n",
    "    columna = abs(AB[i:,i])\n",
    "    dondemax = np.argmax(columna)\n",
    "\n",
    "    # dondemax no está en diagonal\n",
    "    if (dondemax !=0):\n",
    "        # intercambia filas\n",
    "        temporal = np.copy(AB[i,:])\n",
    "        AB[i,:] = AB[dondemax+i,:]\n",
    "        AB[dondemax+i,:] = temporal\n",
    "\n",
    "AB1 = np.copy(AB)\n",
    "A1 = np.copy(AB[:,:m-1])\n",
    "B1 = np.copy(AB[:,m-1])"
   ]
  },
  {
   "cell_type": "code",
   "execution_count": 21,
   "metadata": {},
   "outputs": [
    {
     "data": {
      "text/plain": [
       "array([[  3.  ,  -0.1 ,  -0.2 ,   7.85],\n",
       "       [  0.1 ,   7.  ,  -0.3 , -19.3 ],\n",
       "       [  0.3 ,  -0.2 ,  10.  ,  71.4 ]])"
      ]
     },
     "execution_count": 21,
     "metadata": {},
     "output_type": "execute_result"
    }
   ],
   "source": [
    "AB1\n"
   ]
  },
  {
   "cell_type": "code",
   "execution_count": 22,
   "metadata": {},
   "outputs": [
    {
     "data": {
      "text/plain": [
       "array([[ 3. , -0.1, -0.2],\n",
       "       [ 0.1,  7. , -0.3],\n",
       "       [ 0.3, -0.2, 10. ]])"
      ]
     },
     "execution_count": 22,
     "metadata": {},
     "output_type": "execute_result"
    }
   ],
   "source": [
    "A1"
   ]
  },
  {
   "cell_type": "code",
   "execution_count": 23,
   "metadata": {},
   "outputs": [
    {
     "data": {
      "text/plain": [
       "array([[  7.85],\n",
       "       [-19.3 ],\n",
       "       [ 71.4 ]])"
      ]
     },
     "execution_count": 23,
     "metadata": {},
     "output_type": "execute_result"
    }
   ],
   "source": [
    "B1"
   ]
  },
  {
   "cell_type": "code",
   "execution_count": 13,
   "metadata": {},
   "outputs": [],
   "source": [
    "# eliminacion hacia adelante\n",
    "# se inicializa L\n",
    "L = np.identity(n,dtype=float)\n",
    "for i in range(0,n-1,1):\n",
    "    pivote = AB[i,i]\n",
    "    adelante = i+1\n",
    "    for k in range(adelante,n,1):\n",
    "        factor = AB[k,i]/pivote\n",
    "        AB[k,:] = AB[k,:] - AB[i,:]*factor\n",
    "        L[k,i] = factor\n",
    "\n",
    "U = np.copy(AB[:,:m-1])"
   ]
  },
  {
   "cell_type": "code",
   "execution_count": 14,
   "metadata": {},
   "outputs": [
    {
     "data": {
      "text/plain": [
       "array([[ 1.00000000e+00,  0.00000000e+00,  0.00000000e+00,\n",
       "         7.85000000e+00],\n",
       "       [ 3.33333333e-02,  1.00000000e+00,  0.00000000e+00,\n",
       "        -1.93000000e+01],\n",
       "       [ 1.00000000e-01, -2.71299381e-02,  1.00000000e+00,\n",
       "         7.14000000e+01]])"
      ]
     },
     "execution_count": 14,
     "metadata": {},
     "output_type": "execute_result"
    }
   ],
   "source": [
    "# Resolver LY = B   donde Y = B1\n",
    "B1  = np.transpose([B1])\n",
    "AB =np.concatenate((L,B1),axis=1)\n",
    "AB"
   ]
  },
  {
   "cell_type": "code",
   "execution_count": 15,
   "metadata": {},
   "outputs": [
    {
     "data": {
      "text/plain": [
       "array([[  7.85      ],\n",
       "       [-19.56166667],\n",
       "       [ 70.08429319]])"
      ]
     },
     "execution_count": 15,
     "metadata": {},
     "output_type": "execute_result"
    }
   ],
   "source": [
    "# sustitución hacia adelante\n",
    "Y = np.zeros(n,dtype=float)\n",
    "Y[0] = AB[0,n]\n",
    "for i in range(1,n,1):\n",
    "    suma = 0\n",
    "    for j in range(0,i,1):\n",
    "        suma = suma + AB[i,j]*Y[j]\n",
    "    b = AB[i,n]\n",
    "    Y[i] = (b-suma)/AB[i,i]\n",
    "\n",
    "Y = np.transpose([Y])\n",
    "Y"
   ]
  },
  {
   "cell_type": "code",
   "execution_count": 16,
   "metadata": {},
   "outputs": [
    {
     "data": {
      "text/plain": [
       "array([[  3.        ,  -0.1       ,  -0.2       ,   7.85      ],\n",
       "       [  0.        ,   7.00333333,  -0.29333333, -19.56166667],\n",
       "       [  0.        ,   0.        ,  10.01204188,  70.08429319]])"
      ]
     },
     "execution_count": 16,
     "metadata": {},
     "output_type": "execute_result"
    }
   ],
   "source": [
    "# Resolver UX = Y\n",
    "AB =np.concatenate((U,Y),axis=1)\n",
    "AB"
   ]
  },
  {
   "cell_type": "code",
   "execution_count": 17,
   "metadata": {},
   "outputs": [
    {
     "data": {
      "text/plain": [
       "array([[ 3. ],\n",
       "       [-2.5],\n",
       "       [ 7. ]])"
      ]
     },
     "execution_count": 17,
     "metadata": {},
     "output_type": "execute_result"
    }
   ],
   "source": [
    "# sustitución hacia atrás\n",
    "ultfila = n-1\n",
    "ultcolumna = m-1\n",
    "X = np.zeros(n,dtype=float)\n",
    "\n",
    "for i in range(ultfila,0-1,-1):\n",
    "    suma = 0\n",
    "    for j in range(i+1,ultcolumna,1):\n",
    "        suma = suma + AB[i,j]*X[j]\n",
    "    b = AB[i,ultcolumna]\n",
    "    X[i] = (b-suma)/AB[i,i]\n",
    "\n",
    "X = np.transpose([X])\n",
    "X"
   ]
  },
  {
   "cell_type": "code",
   "execution_count": 18,
   "metadata": {},
   "outputs": [
    {
     "name": "stdout",
     "output_type": "stream",
     "text": [
      "Pivoteo parcial por filas: AB\n",
      "[[  3.    -0.1   -0.2    7.85]\n",
      " [  0.1    7.    -0.3  -19.3 ]\n",
      " [  0.3   -0.2   10.    71.4 ]]\n",
      "eliminación hacia adelante\n",
      "Matriz U: \n",
      "[[ 3.         -0.1        -0.2       ]\n",
      " [ 0.          7.00333333 -0.29333333]\n",
      " [ 0.          0.         10.01204188]]\n",
      "matriz L: \n",
      "[[ 1.          0.          0.        ]\n",
      " [ 0.03333333  1.          0.        ]\n",
      " [ 0.1        -0.02712994  1.        ]]\n",
      "B1 :\n",
      "[[  7.85]\n",
      " [-19.3 ]\n",
      " [ 71.4 ]]\n",
      "Y Sustitución hacia adelante\n",
      "[[  7.85      ]\n",
      " [-19.56166667]\n",
      " [ 70.08429319]]\n",
      "X Sustitución hacia atras\n",
      "[[ 3. ]\n",
      " [-2.5]\n",
      " [ 7. ]]\n"
     ]
    }
   ],
   "source": [
    "# SALIDA\n",
    "print('Pivoteo parcial por filas: AB')\n",
    "print(AB1)\n",
    "print('eliminación hacia adelante')\n",
    "print('Matriz U: ')\n",
    "print(U)\n",
    "print('matriz L: ')\n",
    "print(L)\n",
    "print('B1 :')\n",
    "print(B1)\n",
    "print('Y Sustitución hacia adelante')\n",
    "print(Y)\n",
    "print('X Sustitución hacia atras')\n",
    "print(X)"
   ]
  },
  {
   "cell_type": "markdown",
   "metadata": {},
   "source": [
    "# Luego concatenamos U con Y y reemplazamos hacia atras "
   ]
  },
  {
   "cell_type": "code",
   "execution_count": null,
   "metadata": {},
   "outputs": [],
   "source": []
  }
 ],
 "metadata": {
  "kernelspec": {
   "display_name": "Algebra_Taller2_Sebastian_David-mHsW0iIa",
   "language": "python",
   "name": "python3"
  },
  "language_info": {
   "codemirror_mode": {
    "name": "ipython",
    "version": 3
   },
   "file_extension": ".py",
   "mimetype": "text/x-python",
   "name": "python",
   "nbconvert_exporter": "python",
   "pygments_lexer": "ipython3",
   "version": "3.11.5"
  },
  "orig_nbformat": 4
 },
 "nbformat": 4,
 "nbformat_minor": 2
}
