{
 "cells": [
  {
   "cell_type": "code",
   "execution_count": 45,
   "metadata": {},
   "outputs": [],
   "source": [
    "import numpy as np\n",
    "import matplotlib.pyplot as plt\n",
    "import pandas as pd\n",
    "import plotly_express as px\n",
    "\n",
    "from numpy import matrix, linalg"
   ]
  },
  {
   "cell_type": "code",
   "execution_count": 20,
   "metadata": {},
   "outputs": [],
   "source": [
    "import numpy as np\n",
    "\n",
    "def generate_hilbert_matrix(N):\n",
    "\n",
    "    hilbert_matrix = np.array([[1 / (i + j - 1) for j in range(1, N + 1)] for i in range(1, N + 1)])\n",
    "    return matrix(hilbert_matrix)\n",
    "\n",
    "def calculate_covariance_matrix(hilbert_matrix):\n",
    "\n",
    "    return np.cov(hilbert_matrix, rowvar=False)"
   ]
  },
  {
   "cell_type": "code",
   "execution_count": 53,
   "metadata": {},
   "outputs": [
    {
     "data": {
      "text/plain": [
       "array([[-0.33894873, -0.14859236, -0.08759015, -0.05866315, -0.04231312],\n",
       "       [ 0.3558821 ,  0.11563727,  0.05556018,  0.03202431,  0.02057361],\n",
       "       [-0.12635353, -0.07336203, -0.04778975, -0.03363753, -0.02498122],\n",
       "       ...,\n",
       "       [-0.08163546, -0.05523523, -0.03738585, -0.02674579, -0.02003532],\n",
       "       [-0.39169698, -0.12625476, -0.06089998, -0.03534751, -0.02287987],\n",
       "       [ 0.36476749,  0.14642394,  0.08172904,  0.05275364,  0.03705051]])"
      ]
     },
     "execution_count": 53,
     "metadata": {},
     "output_type": "execute_result"
    }
   ],
   "source": [
    "\n",
    "\n",
    "def generate_normal_data(mean, covariance_matrix, num_samples):\n",
    "\n",
    "    samples = np.random.multivariate_normal(mean, covariance_matrix, num_samples)\n",
    "    return samples\n",
    "\n",
    "# Ejemplo de uso:\n",
    "N = 5  # Tamaño de la matriz de Hilbert\n",
    "mean = np.zeros(N)  # Vector de medias\n",
    "hilbert_matrix = generate_hilbert_matrix(N)\n",
    "covariance_matrix = calculate_covariance_matrix(hilbert_matrix)\n",
    "num_samples = 1000  # Número de muestras a generar\n",
    "\n",
    "# Generar datos normales multivariantes\n",
    "data = generate_normal_data(mean, covariance_matrix, num_samples)\n",
    "\n",
    "data"
   ]
  },
  {
   "cell_type": "code",
   "execution_count": 26,
   "metadata": {},
   "outputs": [
    {
     "data": {
      "text/plain": [
       "matrix([[1.        , 0.5       ],\n",
       "        [0.5       , 0.33333333]])"
      ]
     },
     "execution_count": 26,
     "metadata": {},
     "output_type": "execute_result"
    }
   ],
   "source": [
    "generate_hilbert_matrix(2)"
   ]
  },
  {
   "cell_type": "code",
   "execution_count": 112,
   "metadata": {},
   "outputs": [
    {
     "data": {
      "application/vnd.plotly.v1+json": {
       "config": {
        "plotlyServerURL": "https://plot.ly"
       },
       "data": [
        {
         "hovertemplate": "n=%{x}<br>Condition Number=%{y}<extra></extra>",
         "legendgroup": "",
         "line": {
          "color": "#636efa",
          "dash": "solid"
         },
         "marker": {
          "symbol": "circle"
         },
         "mode": "lines",
         "name": "",
         "orientation": "v",
         "showlegend": false,
         "type": "scatter",
         "x": [
          2,
          3,
          4,
          5,
          6,
          7,
          8,
          9,
          10,
          11,
          12,
          13,
          14,
          15
         ],
         "xaxis": "x",
         "y": [
          null,
          205364143008096500,
          1238985395606759400,
          1821036009616867300,
          2202559018054149400,
          3178013933362360300,
          2533599657745870300,
          5163340419374409000,
          4873657559569539000,
          14336080651595727000,
          19612769891124200000,
          34250586586480060000,
          14650553569101355000,
          11966922954099802000
         ],
         "yaxis": "y"
        }
       ],
       "layout": {
        "legend": {
         "tracegroupgap": 0
        },
        "template": {
         "data": {
          "bar": [
           {
            "error_x": {
             "color": "#2a3f5f"
            },
            "error_y": {
             "color": "#2a3f5f"
            },
            "marker": {
             "line": {
              "color": "#E5ECF6",
              "width": 0.5
             },
             "pattern": {
              "fillmode": "overlay",
              "size": 10,
              "solidity": 0.2
             }
            },
            "type": "bar"
           }
          ],
          "barpolar": [
           {
            "marker": {
             "line": {
              "color": "#E5ECF6",
              "width": 0.5
             },
             "pattern": {
              "fillmode": "overlay",
              "size": 10,
              "solidity": 0.2
             }
            },
            "type": "barpolar"
           }
          ],
          "carpet": [
           {
            "aaxis": {
             "endlinecolor": "#2a3f5f",
             "gridcolor": "white",
             "linecolor": "white",
             "minorgridcolor": "white",
             "startlinecolor": "#2a3f5f"
            },
            "baxis": {
             "endlinecolor": "#2a3f5f",
             "gridcolor": "white",
             "linecolor": "white",
             "minorgridcolor": "white",
             "startlinecolor": "#2a3f5f"
            },
            "type": "carpet"
           }
          ],
          "choropleth": [
           {
            "colorbar": {
             "outlinewidth": 0,
             "ticks": ""
            },
            "type": "choropleth"
           }
          ],
          "contour": [
           {
            "colorbar": {
             "outlinewidth": 0,
             "ticks": ""
            },
            "colorscale": [
             [
              0,
              "#0d0887"
             ],
             [
              0.1111111111111111,
              "#46039f"
             ],
             [
              0.2222222222222222,
              "#7201a8"
             ],
             [
              0.3333333333333333,
              "#9c179e"
             ],
             [
              0.4444444444444444,
              "#bd3786"
             ],
             [
              0.5555555555555556,
              "#d8576b"
             ],
             [
              0.6666666666666666,
              "#ed7953"
             ],
             [
              0.7777777777777778,
              "#fb9f3a"
             ],
             [
              0.8888888888888888,
              "#fdca26"
             ],
             [
              1,
              "#f0f921"
             ]
            ],
            "type": "contour"
           }
          ],
          "contourcarpet": [
           {
            "colorbar": {
             "outlinewidth": 0,
             "ticks": ""
            },
            "type": "contourcarpet"
           }
          ],
          "heatmap": [
           {
            "colorbar": {
             "outlinewidth": 0,
             "ticks": ""
            },
            "colorscale": [
             [
              0,
              "#0d0887"
             ],
             [
              0.1111111111111111,
              "#46039f"
             ],
             [
              0.2222222222222222,
              "#7201a8"
             ],
             [
              0.3333333333333333,
              "#9c179e"
             ],
             [
              0.4444444444444444,
              "#bd3786"
             ],
             [
              0.5555555555555556,
              "#d8576b"
             ],
             [
              0.6666666666666666,
              "#ed7953"
             ],
             [
              0.7777777777777778,
              "#fb9f3a"
             ],
             [
              0.8888888888888888,
              "#fdca26"
             ],
             [
              1,
              "#f0f921"
             ]
            ],
            "type": "heatmap"
           }
          ],
          "heatmapgl": [
           {
            "colorbar": {
             "outlinewidth": 0,
             "ticks": ""
            },
            "colorscale": [
             [
              0,
              "#0d0887"
             ],
             [
              0.1111111111111111,
              "#46039f"
             ],
             [
              0.2222222222222222,
              "#7201a8"
             ],
             [
              0.3333333333333333,
              "#9c179e"
             ],
             [
              0.4444444444444444,
              "#bd3786"
             ],
             [
              0.5555555555555556,
              "#d8576b"
             ],
             [
              0.6666666666666666,
              "#ed7953"
             ],
             [
              0.7777777777777778,
              "#fb9f3a"
             ],
             [
              0.8888888888888888,
              "#fdca26"
             ],
             [
              1,
              "#f0f921"
             ]
            ],
            "type": "heatmapgl"
           }
          ],
          "histogram": [
           {
            "marker": {
             "pattern": {
              "fillmode": "overlay",
              "size": 10,
              "solidity": 0.2
             }
            },
            "type": "histogram"
           }
          ],
          "histogram2d": [
           {
            "colorbar": {
             "outlinewidth": 0,
             "ticks": ""
            },
            "colorscale": [
             [
              0,
              "#0d0887"
             ],
             [
              0.1111111111111111,
              "#46039f"
             ],
             [
              0.2222222222222222,
              "#7201a8"
             ],
             [
              0.3333333333333333,
              "#9c179e"
             ],
             [
              0.4444444444444444,
              "#bd3786"
             ],
             [
              0.5555555555555556,
              "#d8576b"
             ],
             [
              0.6666666666666666,
              "#ed7953"
             ],
             [
              0.7777777777777778,
              "#fb9f3a"
             ],
             [
              0.8888888888888888,
              "#fdca26"
             ],
             [
              1,
              "#f0f921"
             ]
            ],
            "type": "histogram2d"
           }
          ],
          "histogram2dcontour": [
           {
            "colorbar": {
             "outlinewidth": 0,
             "ticks": ""
            },
            "colorscale": [
             [
              0,
              "#0d0887"
             ],
             [
              0.1111111111111111,
              "#46039f"
             ],
             [
              0.2222222222222222,
              "#7201a8"
             ],
             [
              0.3333333333333333,
              "#9c179e"
             ],
             [
              0.4444444444444444,
              "#bd3786"
             ],
             [
              0.5555555555555556,
              "#d8576b"
             ],
             [
              0.6666666666666666,
              "#ed7953"
             ],
             [
              0.7777777777777778,
              "#fb9f3a"
             ],
             [
              0.8888888888888888,
              "#fdca26"
             ],
             [
              1,
              "#f0f921"
             ]
            ],
            "type": "histogram2dcontour"
           }
          ],
          "mesh3d": [
           {
            "colorbar": {
             "outlinewidth": 0,
             "ticks": ""
            },
            "type": "mesh3d"
           }
          ],
          "parcoords": [
           {
            "line": {
             "colorbar": {
              "outlinewidth": 0,
              "ticks": ""
             }
            },
            "type": "parcoords"
           }
          ],
          "pie": [
           {
            "automargin": true,
            "type": "pie"
           }
          ],
          "scatter": [
           {
            "fillpattern": {
             "fillmode": "overlay",
             "size": 10,
             "solidity": 0.2
            },
            "type": "scatter"
           }
          ],
          "scatter3d": [
           {
            "line": {
             "colorbar": {
              "outlinewidth": 0,
              "ticks": ""
             }
            },
            "marker": {
             "colorbar": {
              "outlinewidth": 0,
              "ticks": ""
             }
            },
            "type": "scatter3d"
           }
          ],
          "scattercarpet": [
           {
            "marker": {
             "colorbar": {
              "outlinewidth": 0,
              "ticks": ""
             }
            },
            "type": "scattercarpet"
           }
          ],
          "scattergeo": [
           {
            "marker": {
             "colorbar": {
              "outlinewidth": 0,
              "ticks": ""
             }
            },
            "type": "scattergeo"
           }
          ],
          "scattergl": [
           {
            "marker": {
             "colorbar": {
              "outlinewidth": 0,
              "ticks": ""
             }
            },
            "type": "scattergl"
           }
          ],
          "scattermapbox": [
           {
            "marker": {
             "colorbar": {
              "outlinewidth": 0,
              "ticks": ""
             }
            },
            "type": "scattermapbox"
           }
          ],
          "scatterpolar": [
           {
            "marker": {
             "colorbar": {
              "outlinewidth": 0,
              "ticks": ""
             }
            },
            "type": "scatterpolar"
           }
          ],
          "scatterpolargl": [
           {
            "marker": {
             "colorbar": {
              "outlinewidth": 0,
              "ticks": ""
             }
            },
            "type": "scatterpolargl"
           }
          ],
          "scatterternary": [
           {
            "marker": {
             "colorbar": {
              "outlinewidth": 0,
              "ticks": ""
             }
            },
            "type": "scatterternary"
           }
          ],
          "surface": [
           {
            "colorbar": {
             "outlinewidth": 0,
             "ticks": ""
            },
            "colorscale": [
             [
              0,
              "#0d0887"
             ],
             [
              0.1111111111111111,
              "#46039f"
             ],
             [
              0.2222222222222222,
              "#7201a8"
             ],
             [
              0.3333333333333333,
              "#9c179e"
             ],
             [
              0.4444444444444444,
              "#bd3786"
             ],
             [
              0.5555555555555556,
              "#d8576b"
             ],
             [
              0.6666666666666666,
              "#ed7953"
             ],
             [
              0.7777777777777778,
              "#fb9f3a"
             ],
             [
              0.8888888888888888,
              "#fdca26"
             ],
             [
              1,
              "#f0f921"
             ]
            ],
            "type": "surface"
           }
          ],
          "table": [
           {
            "cells": {
             "fill": {
              "color": "#EBF0F8"
             },
             "line": {
              "color": "white"
             }
            },
            "header": {
             "fill": {
              "color": "#C8D4E3"
             },
             "line": {
              "color": "white"
             }
            },
            "type": "table"
           }
          ]
         },
         "layout": {
          "annotationdefaults": {
           "arrowcolor": "#2a3f5f",
           "arrowhead": 0,
           "arrowwidth": 1
          },
          "autotypenumbers": "strict",
          "coloraxis": {
           "colorbar": {
            "outlinewidth": 0,
            "ticks": ""
           }
          },
          "colorscale": {
           "diverging": [
            [
             0,
             "#8e0152"
            ],
            [
             0.1,
             "#c51b7d"
            ],
            [
             0.2,
             "#de77ae"
            ],
            [
             0.3,
             "#f1b6da"
            ],
            [
             0.4,
             "#fde0ef"
            ],
            [
             0.5,
             "#f7f7f7"
            ],
            [
             0.6,
             "#e6f5d0"
            ],
            [
             0.7,
             "#b8e186"
            ],
            [
             0.8,
             "#7fbc41"
            ],
            [
             0.9,
             "#4d9221"
            ],
            [
             1,
             "#276419"
            ]
           ],
           "sequential": [
            [
             0,
             "#0d0887"
            ],
            [
             0.1111111111111111,
             "#46039f"
            ],
            [
             0.2222222222222222,
             "#7201a8"
            ],
            [
             0.3333333333333333,
             "#9c179e"
            ],
            [
             0.4444444444444444,
             "#bd3786"
            ],
            [
             0.5555555555555556,
             "#d8576b"
            ],
            [
             0.6666666666666666,
             "#ed7953"
            ],
            [
             0.7777777777777778,
             "#fb9f3a"
            ],
            [
             0.8888888888888888,
             "#fdca26"
            ],
            [
             1,
             "#f0f921"
            ]
           ],
           "sequentialminus": [
            [
             0,
             "#0d0887"
            ],
            [
             0.1111111111111111,
             "#46039f"
            ],
            [
             0.2222222222222222,
             "#7201a8"
            ],
            [
             0.3333333333333333,
             "#9c179e"
            ],
            [
             0.4444444444444444,
             "#bd3786"
            ],
            [
             0.5555555555555556,
             "#d8576b"
            ],
            [
             0.6666666666666666,
             "#ed7953"
            ],
            [
             0.7777777777777778,
             "#fb9f3a"
            ],
            [
             0.8888888888888888,
             "#fdca26"
            ],
            [
             1,
             "#f0f921"
            ]
           ]
          },
          "colorway": [
           "#636efa",
           "#EF553B",
           "#00cc96",
           "#ab63fa",
           "#FFA15A",
           "#19d3f3",
           "#FF6692",
           "#B6E880",
           "#FF97FF",
           "#FECB52"
          ],
          "font": {
           "color": "#2a3f5f"
          },
          "geo": {
           "bgcolor": "white",
           "lakecolor": "white",
           "landcolor": "#E5ECF6",
           "showlakes": true,
           "showland": true,
           "subunitcolor": "white"
          },
          "hoverlabel": {
           "align": "left"
          },
          "hovermode": "closest",
          "mapbox": {
           "style": "light"
          },
          "paper_bgcolor": "white",
          "plot_bgcolor": "#E5ECF6",
          "polar": {
           "angularaxis": {
            "gridcolor": "white",
            "linecolor": "white",
            "ticks": ""
           },
           "bgcolor": "#E5ECF6",
           "radialaxis": {
            "gridcolor": "white",
            "linecolor": "white",
            "ticks": ""
           }
          },
          "scene": {
           "xaxis": {
            "backgroundcolor": "#E5ECF6",
            "gridcolor": "white",
            "gridwidth": 2,
            "linecolor": "white",
            "showbackground": true,
            "ticks": "",
            "zerolinecolor": "white"
           },
           "yaxis": {
            "backgroundcolor": "#E5ECF6",
            "gridcolor": "white",
            "gridwidth": 2,
            "linecolor": "white",
            "showbackground": true,
            "ticks": "",
            "zerolinecolor": "white"
           },
           "zaxis": {
            "backgroundcolor": "#E5ECF6",
            "gridcolor": "white",
            "gridwidth": 2,
            "linecolor": "white",
            "showbackground": true,
            "ticks": "",
            "zerolinecolor": "white"
           }
          },
          "shapedefaults": {
           "line": {
            "color": "#2a3f5f"
           }
          },
          "ternary": {
           "aaxis": {
            "gridcolor": "white",
            "linecolor": "white",
            "ticks": ""
           },
           "baxis": {
            "gridcolor": "white",
            "linecolor": "white",
            "ticks": ""
           },
           "bgcolor": "#E5ECF6",
           "caxis": {
            "gridcolor": "white",
            "linecolor": "white",
            "ticks": ""
           }
          },
          "title": {
           "x": 0.05
          },
          "xaxis": {
           "automargin": true,
           "gridcolor": "white",
           "linecolor": "white",
           "ticks": "",
           "title": {
            "standoff": 15
           },
           "zerolinecolor": "white",
           "zerolinewidth": 2
          },
          "yaxis": {
           "automargin": true,
           "gridcolor": "white",
           "linecolor": "white",
           "ticks": "",
           "title": {
            "standoff": 15
           },
           "zerolinecolor": "white",
           "zerolinewidth": 2
          }
         }
        },
        "title": {
         "text": "Condition Number of Hilbert Matrix vs. n"
        },
        "xaxis": {
         "anchor": "y",
         "domain": [
          0,
          1
         ],
         "tickformat": "d",
         "title": {
          "text": "n"
         }
        },
        "yaxis": {
         "anchor": "x",
         "domain": [
          0,
          1
         ],
         "title": {
          "text": "Condition Number"
         }
        }
       }
      },
      "text/html": [
       "<div>                            <div id=\"fae7c048-38a1-4139-b92e-89fcad31a476\" class=\"plotly-graph-div\" style=\"height:525px; width:100%;\"></div>            <script type=\"text/javascript\">                require([\"plotly\"], function(Plotly) {                    window.PLOTLYENV=window.PLOTLYENV || {};                                    if (document.getElementById(\"fae7c048-38a1-4139-b92e-89fcad31a476\")) {                    Plotly.newPlot(                        \"fae7c048-38a1-4139-b92e-89fcad31a476\",                        [{\"hovertemplate\":\"n=%{x}\\u003cbr\\u003eCondition Number=%{y}\\u003cextra\\u003e\\u003c\\u002fextra\\u003e\",\"legendgroup\":\"\",\"line\":{\"color\":\"#636efa\",\"dash\":\"solid\"},\"marker\":{\"symbol\":\"circle\"},\"mode\":\"lines\",\"name\":\"\",\"orientation\":\"v\",\"showlegend\":false,\"x\":[2,3,4,5,6,7,8,9,10,11,12,13,14,15],\"xaxis\":\"x\",\"y\":[null,2.053641430080965e+17,1.2389853956067594e+18,1.8210360096168673e+18,2.2025590180541494e+18,3.1780139333623603e+18,2.5335996577458703e+18,5.163340419374409e+18,4.873657559569539e+18,1.4336080651595727e+19,1.96127698911242e+19,3.425058658648006e+19,1.4650553569101355e+19,1.1966922954099802e+19],\"yaxis\":\"y\",\"type\":\"scatter\"}],                        {\"template\":{\"data\":{\"histogram2dcontour\":[{\"type\":\"histogram2dcontour\",\"colorbar\":{\"outlinewidth\":0,\"ticks\":\"\"},\"colorscale\":[[0.0,\"#0d0887\"],[0.1111111111111111,\"#46039f\"],[0.2222222222222222,\"#7201a8\"],[0.3333333333333333,\"#9c179e\"],[0.4444444444444444,\"#bd3786\"],[0.5555555555555556,\"#d8576b\"],[0.6666666666666666,\"#ed7953\"],[0.7777777777777778,\"#fb9f3a\"],[0.8888888888888888,\"#fdca26\"],[1.0,\"#f0f921\"]]}],\"choropleth\":[{\"type\":\"choropleth\",\"colorbar\":{\"outlinewidth\":0,\"ticks\":\"\"}}],\"histogram2d\":[{\"type\":\"histogram2d\",\"colorbar\":{\"outlinewidth\":0,\"ticks\":\"\"},\"colorscale\":[[0.0,\"#0d0887\"],[0.1111111111111111,\"#46039f\"],[0.2222222222222222,\"#7201a8\"],[0.3333333333333333,\"#9c179e\"],[0.4444444444444444,\"#bd3786\"],[0.5555555555555556,\"#d8576b\"],[0.6666666666666666,\"#ed7953\"],[0.7777777777777778,\"#fb9f3a\"],[0.8888888888888888,\"#fdca26\"],[1.0,\"#f0f921\"]]}],\"heatmap\":[{\"type\":\"heatmap\",\"colorbar\":{\"outlinewidth\":0,\"ticks\":\"\"},\"colorscale\":[[0.0,\"#0d0887\"],[0.1111111111111111,\"#46039f\"],[0.2222222222222222,\"#7201a8\"],[0.3333333333333333,\"#9c179e\"],[0.4444444444444444,\"#bd3786\"],[0.5555555555555556,\"#d8576b\"],[0.6666666666666666,\"#ed7953\"],[0.7777777777777778,\"#fb9f3a\"],[0.8888888888888888,\"#fdca26\"],[1.0,\"#f0f921\"]]}],\"heatmapgl\":[{\"type\":\"heatmapgl\",\"colorbar\":{\"outlinewidth\":0,\"ticks\":\"\"},\"colorscale\":[[0.0,\"#0d0887\"],[0.1111111111111111,\"#46039f\"],[0.2222222222222222,\"#7201a8\"],[0.3333333333333333,\"#9c179e\"],[0.4444444444444444,\"#bd3786\"],[0.5555555555555556,\"#d8576b\"],[0.6666666666666666,\"#ed7953\"],[0.7777777777777778,\"#fb9f3a\"],[0.8888888888888888,\"#fdca26\"],[1.0,\"#f0f921\"]]}],\"contourcarpet\":[{\"type\":\"contourcarpet\",\"colorbar\":{\"outlinewidth\":0,\"ticks\":\"\"}}],\"contour\":[{\"type\":\"contour\",\"colorbar\":{\"outlinewidth\":0,\"ticks\":\"\"},\"colorscale\":[[0.0,\"#0d0887\"],[0.1111111111111111,\"#46039f\"],[0.2222222222222222,\"#7201a8\"],[0.3333333333333333,\"#9c179e\"],[0.4444444444444444,\"#bd3786\"],[0.5555555555555556,\"#d8576b\"],[0.6666666666666666,\"#ed7953\"],[0.7777777777777778,\"#fb9f3a\"],[0.8888888888888888,\"#fdca26\"],[1.0,\"#f0f921\"]]}],\"surface\":[{\"type\":\"surface\",\"colorbar\":{\"outlinewidth\":0,\"ticks\":\"\"},\"colorscale\":[[0.0,\"#0d0887\"],[0.1111111111111111,\"#46039f\"],[0.2222222222222222,\"#7201a8\"],[0.3333333333333333,\"#9c179e\"],[0.4444444444444444,\"#bd3786\"],[0.5555555555555556,\"#d8576b\"],[0.6666666666666666,\"#ed7953\"],[0.7777777777777778,\"#fb9f3a\"],[0.8888888888888888,\"#fdca26\"],[1.0,\"#f0f921\"]]}],\"mesh3d\":[{\"type\":\"mesh3d\",\"colorbar\":{\"outlinewidth\":0,\"ticks\":\"\"}}],\"scatter\":[{\"fillpattern\":{\"fillmode\":\"overlay\",\"size\":10,\"solidity\":0.2},\"type\":\"scatter\"}],\"parcoords\":[{\"type\":\"parcoords\",\"line\":{\"colorbar\":{\"outlinewidth\":0,\"ticks\":\"\"}}}],\"scatterpolargl\":[{\"type\":\"scatterpolargl\",\"marker\":{\"colorbar\":{\"outlinewidth\":0,\"ticks\":\"\"}}}],\"bar\":[{\"error_x\":{\"color\":\"#2a3f5f\"},\"error_y\":{\"color\":\"#2a3f5f\"},\"marker\":{\"line\":{\"color\":\"#E5ECF6\",\"width\":0.5},\"pattern\":{\"fillmode\":\"overlay\",\"size\":10,\"solidity\":0.2}},\"type\":\"bar\"}],\"scattergeo\":[{\"type\":\"scattergeo\",\"marker\":{\"colorbar\":{\"outlinewidth\":0,\"ticks\":\"\"}}}],\"scatterpolar\":[{\"type\":\"scatterpolar\",\"marker\":{\"colorbar\":{\"outlinewidth\":0,\"ticks\":\"\"}}}],\"histogram\":[{\"marker\":{\"pattern\":{\"fillmode\":\"overlay\",\"size\":10,\"solidity\":0.2}},\"type\":\"histogram\"}],\"scattergl\":[{\"type\":\"scattergl\",\"marker\":{\"colorbar\":{\"outlinewidth\":0,\"ticks\":\"\"}}}],\"scatter3d\":[{\"type\":\"scatter3d\",\"line\":{\"colorbar\":{\"outlinewidth\":0,\"ticks\":\"\"}},\"marker\":{\"colorbar\":{\"outlinewidth\":0,\"ticks\":\"\"}}}],\"scattermapbox\":[{\"type\":\"scattermapbox\",\"marker\":{\"colorbar\":{\"outlinewidth\":0,\"ticks\":\"\"}}}],\"scatterternary\":[{\"type\":\"scatterternary\",\"marker\":{\"colorbar\":{\"outlinewidth\":0,\"ticks\":\"\"}}}],\"scattercarpet\":[{\"type\":\"scattercarpet\",\"marker\":{\"colorbar\":{\"outlinewidth\":0,\"ticks\":\"\"}}}],\"carpet\":[{\"aaxis\":{\"endlinecolor\":\"#2a3f5f\",\"gridcolor\":\"white\",\"linecolor\":\"white\",\"minorgridcolor\":\"white\",\"startlinecolor\":\"#2a3f5f\"},\"baxis\":{\"endlinecolor\":\"#2a3f5f\",\"gridcolor\":\"white\",\"linecolor\":\"white\",\"minorgridcolor\":\"white\",\"startlinecolor\":\"#2a3f5f\"},\"type\":\"carpet\"}],\"table\":[{\"cells\":{\"fill\":{\"color\":\"#EBF0F8\"},\"line\":{\"color\":\"white\"}},\"header\":{\"fill\":{\"color\":\"#C8D4E3\"},\"line\":{\"color\":\"white\"}},\"type\":\"table\"}],\"barpolar\":[{\"marker\":{\"line\":{\"color\":\"#E5ECF6\",\"width\":0.5},\"pattern\":{\"fillmode\":\"overlay\",\"size\":10,\"solidity\":0.2}},\"type\":\"barpolar\"}],\"pie\":[{\"automargin\":true,\"type\":\"pie\"}]},\"layout\":{\"autotypenumbers\":\"strict\",\"colorway\":[\"#636efa\",\"#EF553B\",\"#00cc96\",\"#ab63fa\",\"#FFA15A\",\"#19d3f3\",\"#FF6692\",\"#B6E880\",\"#FF97FF\",\"#FECB52\"],\"font\":{\"color\":\"#2a3f5f\"},\"hovermode\":\"closest\",\"hoverlabel\":{\"align\":\"left\"},\"paper_bgcolor\":\"white\",\"plot_bgcolor\":\"#E5ECF6\",\"polar\":{\"bgcolor\":\"#E5ECF6\",\"angularaxis\":{\"gridcolor\":\"white\",\"linecolor\":\"white\",\"ticks\":\"\"},\"radialaxis\":{\"gridcolor\":\"white\",\"linecolor\":\"white\",\"ticks\":\"\"}},\"ternary\":{\"bgcolor\":\"#E5ECF6\",\"aaxis\":{\"gridcolor\":\"white\",\"linecolor\":\"white\",\"ticks\":\"\"},\"baxis\":{\"gridcolor\":\"white\",\"linecolor\":\"white\",\"ticks\":\"\"},\"caxis\":{\"gridcolor\":\"white\",\"linecolor\":\"white\",\"ticks\":\"\"}},\"coloraxis\":{\"colorbar\":{\"outlinewidth\":0,\"ticks\":\"\"}},\"colorscale\":{\"sequential\":[[0.0,\"#0d0887\"],[0.1111111111111111,\"#46039f\"],[0.2222222222222222,\"#7201a8\"],[0.3333333333333333,\"#9c179e\"],[0.4444444444444444,\"#bd3786\"],[0.5555555555555556,\"#d8576b\"],[0.6666666666666666,\"#ed7953\"],[0.7777777777777778,\"#fb9f3a\"],[0.8888888888888888,\"#fdca26\"],[1.0,\"#f0f921\"]],\"sequentialminus\":[[0.0,\"#0d0887\"],[0.1111111111111111,\"#46039f\"],[0.2222222222222222,\"#7201a8\"],[0.3333333333333333,\"#9c179e\"],[0.4444444444444444,\"#bd3786\"],[0.5555555555555556,\"#d8576b\"],[0.6666666666666666,\"#ed7953\"],[0.7777777777777778,\"#fb9f3a\"],[0.8888888888888888,\"#fdca26\"],[1.0,\"#f0f921\"]],\"diverging\":[[0,\"#8e0152\"],[0.1,\"#c51b7d\"],[0.2,\"#de77ae\"],[0.3,\"#f1b6da\"],[0.4,\"#fde0ef\"],[0.5,\"#f7f7f7\"],[0.6,\"#e6f5d0\"],[0.7,\"#b8e186\"],[0.8,\"#7fbc41\"],[0.9,\"#4d9221\"],[1,\"#276419\"]]},\"xaxis\":{\"gridcolor\":\"white\",\"linecolor\":\"white\",\"ticks\":\"\",\"title\":{\"standoff\":15},\"zerolinecolor\":\"white\",\"automargin\":true,\"zerolinewidth\":2},\"yaxis\":{\"gridcolor\":\"white\",\"linecolor\":\"white\",\"ticks\":\"\",\"title\":{\"standoff\":15},\"zerolinecolor\":\"white\",\"automargin\":true,\"zerolinewidth\":2},\"scene\":{\"xaxis\":{\"backgroundcolor\":\"#E5ECF6\",\"gridcolor\":\"white\",\"linecolor\":\"white\",\"showbackground\":true,\"ticks\":\"\",\"zerolinecolor\":\"white\",\"gridwidth\":2},\"yaxis\":{\"backgroundcolor\":\"#E5ECF6\",\"gridcolor\":\"white\",\"linecolor\":\"white\",\"showbackground\":true,\"ticks\":\"\",\"zerolinecolor\":\"white\",\"gridwidth\":2},\"zaxis\":{\"backgroundcolor\":\"#E5ECF6\",\"gridcolor\":\"white\",\"linecolor\":\"white\",\"showbackground\":true,\"ticks\":\"\",\"zerolinecolor\":\"white\",\"gridwidth\":2}},\"shapedefaults\":{\"line\":{\"color\":\"#2a3f5f\"}},\"annotationdefaults\":{\"arrowcolor\":\"#2a3f5f\",\"arrowhead\":0,\"arrowwidth\":1},\"geo\":{\"bgcolor\":\"white\",\"landcolor\":\"#E5ECF6\",\"subunitcolor\":\"white\",\"showland\":true,\"showlakes\":true,\"lakecolor\":\"white\"},\"title\":{\"x\":0.05},\"mapbox\":{\"style\":\"light\"}}},\"xaxis\":{\"anchor\":\"y\",\"domain\":[0.0,1.0],\"title\":{\"text\":\"n\"},\"tickformat\":\"d\"},\"yaxis\":{\"anchor\":\"x\",\"domain\":[0.0,1.0],\"title\":{\"text\":\"Condition Number\"}},\"legend\":{\"tracegroupgap\":0},\"title\":{\"text\":\"Condition Number of Hilbert Matrix vs. n\"}},                        {\"responsive\": true}                    ).then(function(){\n",
       "                            \n",
       "var gd = document.getElementById('fae7c048-38a1-4139-b92e-89fcad31a476');\n",
       "var x = new MutationObserver(function (mutations, observer) {{\n",
       "        var display = window.getComputedStyle(gd).display;\n",
       "        if (!display || display === 'none') {{\n",
       "            console.log([gd, 'removed!']);\n",
       "            Plotly.purge(gd);\n",
       "            observer.disconnect();\n",
       "        }}\n",
       "}});\n",
       "\n",
       "// Listen for the removal of the full notebook cells\n",
       "var notebookContainer = gd.closest('#notebook-container');\n",
       "if (notebookContainer) {{\n",
       "    x.observe(notebookContainer, {childList: true});\n",
       "}}\n",
       "\n",
       "// Listen for the clearing of the current output cell\n",
       "var outputEl = gd.closest('.output');\n",
       "if (outputEl) {{\n",
       "    x.observe(outputEl, {childList: true});\n",
       "}}\n",
       "\n",
       "                        })                };                });            </script>        </div>"
      ]
     },
     "metadata": {},
     "output_type": "display_data"
    }
   ],
   "source": [
    "# Define the range of n values\n",
    "n_values = np.arange(2, 16)  # n from 2 to 101\n",
    "\n",
    "# Initialize an empty list to store condition numbers\n",
    "condition_numbers = []\n",
    "\n",
    "# Calculate the condition number for each n\n",
    "for n in n_values:\n",
    "    hilbert_matrix = generate_hilbert_matrix(n)\n",
    "    covariance_matrix = calculate_covariance_matrix(hilbert_matrix)\n",
    "    condition_number = np.linalg.cond(covariance_matrix,p=np.inf)\n",
    "    condition_numbers.append(condition_number)\n",
    "\n",
    "# Create a DataFrame with n and condition numbers\n",
    "data = {'n': n_values, 'Condition Number': condition_numbers}\n",
    "df = pd.DataFrame(data)\n",
    "\n",
    "# Create the plot using Plotly Express\n",
    "fig = px.line(df, x='n', y='Condition Number', title='Condition Number of Hilbert Matrix vs. n')\n",
    "fig.update_layout(xaxis_title='n', yaxis_title='Condition Number', xaxis_tickformat='d')#, yaxis_tickformat='d')\n",
    "\n",
    "fig.show()"
   ]
  },
  {
   "cell_type": "markdown",
   "metadata": {},
   "source": [
    "# 4.2."
   ]
  },
  {
   "cell_type": "code",
   "execution_count": 98,
   "metadata": {},
   "outputs": [
    {
     "data": {
      "text/plain": [
       "array([ 1,  2,  3,  4,  5,  6,  7,  8,  9, 10, 11, 12, 13, 14, 15])"
      ]
     },
     "execution_count": 98,
     "metadata": {},
     "output_type": "execute_result"
    }
   ],
   "source": [
    "#Definiendo el vector con x\n",
    "x= np.arange(1, 16)\n",
    "x"
   ]
  },
  {
   "cell_type": "code",
   "execution_count": 99,
   "metadata": {},
   "outputs": [
    {
     "data": {
      "text/plain": [
       "matrix([[1.        , 0.5       , 0.33333333, 0.25      , 0.2       ,\n",
       "         0.16666667, 0.14285714, 0.125     , 0.11111111, 0.1       ,\n",
       "         0.09090909, 0.08333333, 0.07692308, 0.07142857, 0.06666667],\n",
       "        [0.5       , 0.33333333, 0.25      , 0.2       , 0.16666667,\n",
       "         0.14285714, 0.125     , 0.11111111, 0.1       , 0.09090909,\n",
       "         0.08333333, 0.07692308, 0.07142857, 0.06666667, 0.0625    ],\n",
       "        [0.33333333, 0.25      , 0.2       , 0.16666667, 0.14285714,\n",
       "         0.125     , 0.11111111, 0.1       , 0.09090909, 0.08333333,\n",
       "         0.07692308, 0.07142857, 0.06666667, 0.0625    , 0.05882353],\n",
       "        [0.25      , 0.2       , 0.16666667, 0.14285714, 0.125     ,\n",
       "         0.11111111, 0.1       , 0.09090909, 0.08333333, 0.07692308,\n",
       "         0.07142857, 0.06666667, 0.0625    , 0.05882353, 0.05555556],\n",
       "        [0.2       , 0.16666667, 0.14285714, 0.125     , 0.11111111,\n",
       "         0.1       , 0.09090909, 0.08333333, 0.07692308, 0.07142857,\n",
       "         0.06666667, 0.0625    , 0.05882353, 0.05555556, 0.05263158],\n",
       "        [0.16666667, 0.14285714, 0.125     , 0.11111111, 0.1       ,\n",
       "         0.09090909, 0.08333333, 0.07692308, 0.07142857, 0.06666667,\n",
       "         0.0625    , 0.05882353, 0.05555556, 0.05263158, 0.05      ],\n",
       "        [0.14285714, 0.125     , 0.11111111, 0.1       , 0.09090909,\n",
       "         0.08333333, 0.07692308, 0.07142857, 0.06666667, 0.0625    ,\n",
       "         0.05882353, 0.05555556, 0.05263158, 0.05      , 0.04761905],\n",
       "        [0.125     , 0.11111111, 0.1       , 0.09090909, 0.08333333,\n",
       "         0.07692308, 0.07142857, 0.06666667, 0.0625    , 0.05882353,\n",
       "         0.05555556, 0.05263158, 0.05      , 0.04761905, 0.04545455],\n",
       "        [0.11111111, 0.1       , 0.09090909, 0.08333333, 0.07692308,\n",
       "         0.07142857, 0.06666667, 0.0625    , 0.05882353, 0.05555556,\n",
       "         0.05263158, 0.05      , 0.04761905, 0.04545455, 0.04347826],\n",
       "        [0.1       , 0.09090909, 0.08333333, 0.07692308, 0.07142857,\n",
       "         0.06666667, 0.0625    , 0.05882353, 0.05555556, 0.05263158,\n",
       "         0.05      , 0.04761905, 0.04545455, 0.04347826, 0.04166667],\n",
       "        [0.09090909, 0.08333333, 0.07692308, 0.07142857, 0.06666667,\n",
       "         0.0625    , 0.05882353, 0.05555556, 0.05263158, 0.05      ,\n",
       "         0.04761905, 0.04545455, 0.04347826, 0.04166667, 0.04      ],\n",
       "        [0.08333333, 0.07692308, 0.07142857, 0.06666667, 0.0625    ,\n",
       "         0.05882353, 0.05555556, 0.05263158, 0.05      , 0.04761905,\n",
       "         0.04545455, 0.04347826, 0.04166667, 0.04      , 0.03846154],\n",
       "        [0.07692308, 0.07142857, 0.06666667, 0.0625    , 0.05882353,\n",
       "         0.05555556, 0.05263158, 0.05      , 0.04761905, 0.04545455,\n",
       "         0.04347826, 0.04166667, 0.04      , 0.03846154, 0.03703704],\n",
       "        [0.07142857, 0.06666667, 0.0625    , 0.05882353, 0.05555556,\n",
       "         0.05263158, 0.05      , 0.04761905, 0.04545455, 0.04347826,\n",
       "         0.04166667, 0.04      , 0.03846154, 0.03703704, 0.03571429],\n",
       "        [0.06666667, 0.0625    , 0.05882353, 0.05555556, 0.05263158,\n",
       "         0.05      , 0.04761905, 0.04545455, 0.04347826, 0.04166667,\n",
       "         0.04      , 0.03846154, 0.03703704, 0.03571429, 0.03448276]])"
      ]
     },
     "execution_count": 99,
     "metadata": {},
     "output_type": "execute_result"
    }
   ],
   "source": [
    "H15=generate_hilbert_matrix(15)\n",
    "H15"
   ]
  },
  {
   "cell_type": "code",
   "execution_count": 109,
   "metadata": {},
   "outputs": [
    {
     "name": "stdout",
     "output_type": "stream",
     "text": [
      "[[15.         12.61927101 11.12089495 10.01467577  9.1423747   8.42796838\n",
      "   7.82784777  7.31430725  6.86852505  6.47709069  6.13010076  5.82003392\n",
      "   5.5410471   5.28851531  5.05871941]]\n",
      "[[15.        ]\n",
      " [12.61927101]\n",
      " [11.12089495]\n",
      " [10.01467577]\n",
      " [ 9.1423747 ]\n",
      " [ 8.42796838]\n",
      " [ 7.82784777]\n",
      " [ 7.31430725]\n",
      " [ 6.86852505]\n",
      " [ 6.47709069]\n",
      " [ 6.13010076]\n",
      " [ 5.82003392]\n",
      " [ 5.5410471 ]\n",
      " [ 5.28851531]\n",
      " [ 5.05871941]]\n"
     ]
    }
   ],
   "source": [
    "b=H15@x\n",
    "b\n",
    "Ib=b.T\n",
    "\n",
    "print(b)\n",
    "print(Ib)"
   ]
  },
  {
   "cell_type": "code",
   "execution_count": null,
   "metadata": {},
   "outputs": [],
   "source": [
    "b2=x@H15"
   ]
  },
  {
   "cell_type": "code",
   "execution_count": 104,
   "metadata": {},
   "outputs": [
    {
     "data": {
      "text/plain": [
       "matrix([[ 1.58102325e+02, -1.23889847e+04,  3.15964881e+05,\n",
       "         -3.86891496e+06,  2.67618553e+07, -1.13312251e+08,\n",
       "          3.03708680e+08, -5.10569864e+08,  4.93534545e+08,\n",
       "         -1.71580270e+08, -1.43728572e+08,  1.60546278e+08,\n",
       "         -2.04394795e+07, -3.37170153e+07,  1.23612882e+07],\n",
       "        [-1.24139480e+04,  1.29893443e+06, -3.73711517e+07,\n",
       "          4.90142708e+08, -3.55249071e+09,  1.55982784e+10,\n",
       "         -4.31721807e+10,  7.49844614e+10, -7.54267804e+10,\n",
       "          2.83167578e+10,  2.32445585e+10, -3.12735169e+10,\n",
       "          1.04566898e+10,  1.57293115e+09, -1.20276845e+09],\n",
       "        [ 3.18072012e+05, -3.75526038e+07,  1.15731114e+09,\n",
       "         -1.59009456e+10,  1.19424887e+11, -5.40541259e+11,\n",
       "          1.53971946e+12, -2.75663156e+12,  2.87538197e+12,\n",
       "         -1.14181680e+12, -9.68567378e+11,  1.49246049e+12,\n",
       "         -7.14620031e+11,  9.37033423e+10,  1.62678082e+10],\n",
       "        [-3.92638714e+06,  4.96768669e+08, -1.60423758e+10,\n",
       "          2.28401603e+11, -1.76741998e+12,  8.22121729e+12,\n",
       "         -2.40606019e+13,  4.43415326e+13, -4.78045443e+13,\n",
       "          1.96768159e+13,  1.81830023e+13, -3.06975623e+13,\n",
       "          1.78424179e+13, -4.42979031e+12,  2.82079657e+11],\n",
       "        [ 2.75162502e+07, -3.65118746e+09,  1.22268244e+11,\n",
       "         -1.79430992e+12,  1.42683634e+13, -6.81297534e+13,\n",
       "          2.04758124e+14, -3.88090264e+14,  4.30882714e+14,\n",
       "         -1.79459359e+14, -1.91728071e+14,  3.41010988e+14,\n",
       "         -2.23109720e+14,  6.94663011e+13, -8.19365120e+12],\n",
       "        [-1.18965874e+08,  1.63977111e+10, -5.66867743e+11,\n",
       "          8.55920021e+12, -6.99188231e+13,  3.42826149e+14,\n",
       "         -1.05842666e+15,  2.06164471e+15, -2.34584865e+15,\n",
       "          9.54459654e+14,  1.27275499e+15, -2.30201864e+15,\n",
       "          1.62390310e+15, -5.67878478e+14,  8.04940117e+13],\n",
       "        [ 3.30186018e+08, -4.71446032e+10,  1.68212152e+12,\n",
       "         -2.61618778e+13,  2.19921613e+14, -1.10920732e+15,\n",
       "          3.52125302e+15, -7.04022540e+15,  8.14619906e+15,\n",
       "         -3.03543462e+15, -5.68096365e+15,  1.01121921e+16,\n",
       "         -7.47295345e+15,  2.79655959e+15, -4.32814277e+14],\n",
       "        [-5.92019373e+08,  8.78750657e+10, -3.25055777e+12,\n",
       "          5.23171846e+13, -4.54482261e+14,  2.36541750e+15,\n",
       "         -7.73038247e+15,  1.58183031e+16, -1.83386963e+16,\n",
       "          5.31328196e+15,  1.77230922e+16, -3.00928810e+16,\n",
       "          2.27810147e+16, -8.87659484e+15,  1.44277342e+15],\n",
       "        [ 6.62081409e+08, -1.03630600e+11,  4.02438567e+12,\n",
       "         -6.77341559e+13,  6.12929516e+14, -3.30769986e+15,\n",
       "          1.11309442e+16, -2.31209895e+16,  2.59295881e+16,\n",
       "         -2.21901008e+15, -3.94563378e+16,  6.19634605e+16,\n",
       "         -4.70699798e+16,  1.87299803e+16, -3.12907307e+15],\n",
       "        [-4.06695417e+08,  7.03626451e+10, -2.96835406e+12,\n",
       "          5.35046354e+13, -5.11869891e+14,  2.88097899e+15,\n",
       "         -9.92760263e+15,  2.03585930e+16, -1.95279753e+16,\n",
       "         -1.18489671e+16,  6.30957478e+16, -8.87582456e+16,\n",
       "          6.61218805e+16, -2.63926969e+16,  4.45955136e+15],\n",
       "        [ 7.23256545e+07, -1.90607421e+10,  1.01291908e+12,\n",
       "         -2.10541489e+13,  2.19749179e+14, -1.28702454e+15,\n",
       "          4.33317068e+15, -7.39032166e+15, -2.39029717e+14,\n",
       "          3.06115412e+16, -7.19495763e+16,  8.75121808e+16,\n",
       "         -6.19679116e+16,  2.42464604e+16, -4.06917884e+15],\n",
       "        [ 3.80432467e+07, -3.52538101e+09,  5.86377102e+10,\n",
       "         -1.09390136e+11, -6.98070500e+11, -4.38448055e+13,\n",
       "          6.74440190e+14, -4.32886227e+15,  1.59389195e+16,\n",
       "         -3.72130274e+16,  5.71005043e+16, -5.75587537e+16,\n",
       "          3.67554857e+16, -1.34965124e+16,  2.17240355e+15],\n",
       "        [ 1.53659165e+07, -5.21944186e+08, -5.90296434e+10,\n",
       "          2.54814297e+12, -4.06836989e+13,  3.49671765e+14,\n",
       "         -1.85287581e+15,  6.48121628e+15, -1.55216875e+16,\n",
       "          2.58648613e+16, -2.99641260e+16,  2.36611349e+16,\n",
       "         -1.21404514e+16,  3.64678485e+15, -4.86333201e+14],\n",
       "        [-3.54670848e+07,  3.76695913e+09, -7.49645095e+10,\n",
       "         -1.25102161e+10,  1.28791439e+13, -1.50951654e+14,\n",
       "          8.69743136e+14, -3.01743667e+15,  6.74249674e+15,\n",
       "         -9.88608032e+15,  9.34420071e+15, -5.30337672e+15,\n",
       "          1.44118204e+15,  2.12733200e+13, -7.38460785e+13],\n",
       "        [ 1.12498377e+07, -1.32842725e+09,  3.43636799e+10,\n",
       "         -2.75758082e+11, -4.43542206e+11,  2.02673319e+13,\n",
       "         -1.42457928e+14,  5.24509113e+14, -1.16984441e+15,\n",
       "          1.61927178e+15, -1.31080576e+15,  4.54532428e+14,\n",
       "          1.33801915e+14, -1.72507852e+14,  4.39196674e+13]])"
      ]
     },
     "execution_count": 104,
     "metadata": {},
     "output_type": "execute_result"
    }
   ],
   "source": [
    "I_H15=np.linalg.inv(H15)\n",
    "I_H15"
   ]
  },
  {
   "cell_type": "code",
   "execution_count": 110,
   "metadata": {},
   "outputs": [
    {
     "data": {
      "text/plain": [
       "matrix([[  1.00000084,   2.00009537,   2.99893188,   4.09765625,\n",
       "           4.86914062,  10.71875   ,   6.        ,  36.        ,\n",
       "          -4.        ,  35.        ,  61.        , -49.        ,\n",
       "         107.75      , -17.375     ,  17.3125    ]])"
      ]
     },
     "execution_count": 110,
     "metadata": {},
     "output_type": "execute_result"
    }
   ],
   "source": [
    "b@I_H15"
   ]
  },
  {
   "cell_type": "code",
   "execution_count": 103,
   "metadata": {},
   "outputs": [
    {
     "name": "stdout",
     "output_type": "stream",
     "text": [
      "Solución estimada: [  0.99999951   2.00007576   2.99712233   4.04722415   4.58549494\n",
      "   8.14944695   0.18557238  20.63897678  -0.6744124   -2.16371952\n",
      "  53.6820964  -42.3648982   51.00101332  -0.41395869  17.32996634]\n"
     ]
    }
   ],
   "source": [
    "import numpy as np\n",
    "from scipy.linalg import hilbert\n",
    "\n",
    "# Definir el tamaño de la matriz de Hilbert\n",
    "n = 15\n",
    "\n",
    "# Crear la matriz de Hilbert de tamaño 15x15\n",
    "H = hilbert(n)\n",
    "\n",
    "# Crear el vector b\n",
    "x = np.arange(1, n + 1)  # [1, 2, 3, ..., 15]\n",
    "b = np.dot(H, x)\n",
    "\n",
    "# Resolver el sistema lineal x = H^(-1) * b\n",
    "x_estimated = np.linalg.solve(H, b)\n",
    "\n",
    "# Imprimir la solución estimada\n",
    "print(\"Solución estimada:\", x_estimated)"
   ]
  }
 ],
 "metadata": {
  "kernelspec": {
   "display_name": "Algebra_Taller2_Sebastian_David-0MNUXVjs",
   "language": "python",
   "name": "python3"
  },
  "language_info": {
   "codemirror_mode": {
    "name": "ipython",
    "version": 3
   },
   "file_extension": ".py",
   "mimetype": "text/x-python",
   "name": "python",
   "nbconvert_exporter": "python",
   "pygments_lexer": "ipython3",
   "version": "3.11.5"
  },
  "orig_nbformat": 4
 },
 "nbformat": 4,
 "nbformat_minor": 2
}
