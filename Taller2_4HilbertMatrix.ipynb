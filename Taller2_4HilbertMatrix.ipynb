{
 "cells": [
  {
   "cell_type": "markdown",
   "metadata": {},
   "source": [
    "# 4. Analizando la matriz de Hilbert\n",
    "\n",
    "El objetivo de este Notebook es analizar la matriz de Hilbert, una matriz que suele usarse en problemas de interpolación y aproximación númerica.\n",
    "\n",
    "La Matriz de Hilbert se define de la siguiente manera: `Hn(i, j) = 1/i+j−1`\n",
    "\n"
   ]
  },
  {
   "cell_type": "markdown",
   "metadata": {},
   "source": [
    "## Importando Liberías"
   ]
  },
  {
   "cell_type": "code",
   "execution_count": 1,
   "metadata": {},
   "outputs": [],
   "source": [
    "import numpy as np\n",
    "import matplotlib.pyplot as plt\n",
    "import pandas as pd\n",
    "import plotly_express as px\n",
    "from scipy.linalg import hilbert\n",
    "from scipy.sparse.linalg import cg\n"
   ]
  },
  {
   "cell_type": "markdown",
   "metadata": {},
   "source": [
    "## 4.1. Analizando la Condición de la Matriz de Hilbert"
   ]
  },
  {
   "cell_type": "markdown",
   "metadata": {},
   "source": [
    "#### Generando la Matriz de Hilbert\n",
    "\n",
    "Se propone la siguiente función para el cálculo, sin embargo, también se podría usar la función `hilbert` de la librería `scipy`."
   ]
  },
  {
   "cell_type": "code",
   "execution_count": 2,
   "metadata": {},
   "outputs": [],
   "source": [
    "# Creando función para calcular la matriz de Hilbert\n",
    "\n",
    "def generate_hilbert_matrix(N):\n",
    "\n",
    "    hilbert_matrix = np.array([[1 / (i + j - 1) for j in range(1, N + 1)] for i in range(1, N + 1)])\n",
    "    return hilbert_matrix"
   ]
  },
  {
   "cell_type": "code",
   "execution_count": 5,
   "metadata": {},
   "outputs": [
    {
     "data": {
      "text/plain": [
       "array([[1.        , 0.5       , 0.33333333],\n",
       "       [0.5       , 0.33333333, 0.25      ],\n",
       "       [0.33333333, 0.25      , 0.2       ]])"
      ]
     },
     "execution_count": 5,
     "metadata": {},
     "output_type": "execute_result"
    }
   ],
   "source": [
    "# Ejemplo de uso\n",
    "generate_hilbert_matrix(3)"
   ]
  },
  {
   "cell_type": "code",
   "execution_count": 5,
   "metadata": {},
   "outputs": [
    {
     "data": {
      "text/plain": [
       "array([[1.        , 0.5       , 0.33333333],\n",
       "       [0.5       , 0.33333333, 0.25      ],\n",
       "       [0.33333333, 0.25      , 0.2       ]])"
      ]
     },
     "execution_count": 5,
     "metadata": {},
     "output_type": "execute_result"
    }
   ],
   "source": [
    "# Validando reusltados con función scipy.linalg.hilbert\n",
    "\n",
    "hilbert(3)"
   ]
  },
  {
   "cell_type": "markdown",
   "metadata": {},
   "source": [
    "#### Creando función para calcular la covarianza de la Matriz"
   ]
  },
  {
   "cell_type": "code",
   "execution_count": 6,
   "metadata": {},
   "outputs": [],
   "source": [
    "# Creando función para calcular la covarianza de la matriz de hilbert\n",
    "\n",
    "def calculate_covariance_matrix(hilbert_matrix):\n",
    "\n",
    "    return np.cov(hilbert_matrix, rowvar=False)"
   ]
  },
  {
   "cell_type": "code",
   "execution_count": 7,
   "metadata": {},
   "outputs": [
    {
     "data": {
      "text/plain": [
       "array([[0.12037037, 0.04398148, 0.02314815],\n",
       "       [0.04398148, 0.0162037 , 0.00856481],\n",
       "       [0.02314815, 0.00856481, 0.00453704]])"
      ]
     },
     "execution_count": 7,
     "metadata": {},
     "output_type": "execute_result"
    }
   ],
   "source": [
    "# Ejemplo de uso\n",
    "calculate_covariance_matrix(generate_hilbert_matrix(3))"
   ]
  },
  {
   "cell_type": "markdown",
   "metadata": {},
   "source": [
    "#### Simulando `k` datos normales con la Matriz de Covarianza `Hn`"
   ]
  },
  {
   "cell_type": "code",
   "execution_count": 8,
   "metadata": {},
   "outputs": [],
   "source": [
    "def generate_normal_data(N, num_samples):\n",
    "    mean = np.zeros(N)\n",
    "    hilbert_matrix = generate_hilbert_matrix(N)\n",
    "    covariance_matrix = calculate_covariance_matrix(hilbert_matrix)\n",
    "    samples = np.random.multivariate_normal(mean, covariance_matrix, num_samples)  #Genera datos con distribución normal con matriz de covarianza Hn\n",
    "    cov_samples=np.cov(samples) #Estima la matriz de covarianza desde los datos simulados\n",
    "    return samples,cov_samples"
   ]
  },
  {
   "cell_type": "code",
   "execution_count": 9,
   "metadata": {},
   "outputs": [
    {
     "name": "stdout",
     "output_type": "stream",
     "text": [
      "\n",
      "Datos simulados:\n",
      "Shape de datos generados:  (1000, 3)\n",
      "Media de datos generados:  -0.01588337198481874\n"
     ]
    },
    {
     "data": {
      "text/plain": [
       "array([[ 0.23231787,  0.09194137,  0.05032131],\n",
       "       [ 0.27623717,  0.09567312,  0.04891478],\n",
       "       [-0.45227742, -0.17635835, -0.09585894],\n",
       "       ...,\n",
       "       [ 0.01410923,  0.00900347,  0.00579185],\n",
       "       [ 0.19528235,  0.06180147,  0.02991294],\n",
       "       [-0.08980439, -0.03013958, -0.01513122]])"
      ]
     },
     "metadata": {},
     "output_type": "display_data"
    },
    {
     "name": "stdout",
     "output_type": "stream",
     "text": [
      "Matriz de covarianzas de los datos simulados:\n",
      "Shape de la matriz de covarianza:  (1000, 1000)\n"
     ]
    },
    {
     "data": {
      "text/plain": [
       "array([[ 9.09342291e-03,  1.14441546e-02, -1.78249800e-02, ...,\n",
       "         3.94021848e-04,  8.36024076e-03, -3.76507414e-03],\n",
       "       [ 1.14441546e-02,  1.44108650e-02, -2.24344979e-02, ...,\n",
       "         4.93802256e-04,  1.05308456e-02, -4.74166142e-03],\n",
       "       [-1.78249800e-02, -2.24344979e-02,  3.49409373e-02, ...,\n",
       "        -7.71963018e-04, -1.63896072e-02,  7.38095320e-03],\n",
       "       ...,\n",
       "       [ 3.94021848e-04,  4.93802256e-04, -7.71963018e-04, ...,\n",
       "         1.75936827e-05,  3.59895910e-04, -1.62320074e-04],\n",
       "       [ 8.36024076e-03,  1.05308456e-02, -1.63896072e-02, ...,\n",
       "         3.59895910e-04,  7.69684432e-03, -3.46522721e-03],\n",
       "       [-3.76507414e-03, -4.74166142e-03,  7.38095320e-03, ...,\n",
       "        -1.62320074e-04, -3.46522721e-03,  1.56020367e-03]])"
      ]
     },
     "metadata": {},
     "output_type": "display_data"
    }
   ],
   "source": [
    "#Ejemplo de uso para k=1000\n",
    "data,cov_data=generate_normal_data(3, 1000)\n",
    "\n",
    "print(\"\\nDatos simulados:\")\n",
    "print(\"Shape de datos generados: \",data.shape)\n",
    "print(\"Media de datos generados: \",data.mean())\n",
    "display(data)\n",
    "\n",
    "print(\"Matriz de covarianzas de los datos simulados:\")\n",
    "print(\"Shape de la matriz de covarianza: \",cov_data.shape)\n",
    "display(cov_data)"
   ]
  },
  {
   "cell_type": "markdown",
   "metadata": {},
   "source": [
    "## Analizando gráficamente la condición de la matriz de Hilbert"
   ]
  },
  {
   "cell_type": "code",
   "execution_count": 10,
   "metadata": {},
   "outputs": [],
   "source": [
    "# Definiendo función para gráficar la condición de la Matriz de Hilbert para N elementos:\n",
    "def plot_condition_of_Hilbert_matrix(N):\n",
    "    n_values = np.arange(2, N+1)  \n",
    "\n",
    "    # Initialize an empty list to store condition numbers\n",
    "    condition_numbers = []\n",
    "\n",
    "    # Calculate the condition number for each n\n",
    "    for n in n_values:\n",
    "        hilbert_matrix = generate_hilbert_matrix(n)\n",
    "        condition_number = np.linalg.cond(hilbert_matrix,p=np.inf)\n",
    "        condition_numbers.append(condition_number)\n",
    "\n",
    "    # Create a DataFrame with n and condition numbers\n",
    "    data = {'n': n_values, 'Condition Number': condition_numbers}\n",
    "    df = pd.DataFrame(data)\n",
    "\n",
    "    # Create the plot using Plotly Express\n",
    "    fig = px.line(df, x='n', y='Condition Number', title=f'Condition Number of Hilbert Matrix vs. n for n={N}')\n",
    "    fig.update_layout(xaxis_title='n', yaxis_title='Condition Number', xaxis_tickformat='d')#, yaxis_tickformat='d')\n",
    "\n",
    "    fig.show()"
   ]
  },
  {
   "cell_type": "code",
   "execution_count": 13,
   "metadata": {},
   "outputs": [
    {
     "data": {
      "application/vnd.plotly.v1+json": {
       "config": {
        "plotlyServerURL": "https://plot.ly"
       },
       "data": [
        {
         "hovertemplate": "n=%{x}<br>Condition Number=%{y}<extra></extra>",
         "legendgroup": "",
         "line": {
          "color": "#636efa",
          "dash": "solid"
         },
         "marker": {
          "symbol": "circle"
         },
         "mode": "lines",
         "name": "",
         "orientation": "v",
         "showlegend": false,
         "type": "scatter",
         "x": [
          2,
          3,
          4,
          5,
          6,
          7,
          8,
          9,
          10,
          11,
          12,
          13,
          14,
          15
         ],
         "xaxis": "x",
         "y": [
          27.00000000000001,
          748.0000000000027,
          28375.00000000183,
          943656.0000063627,
          29070279.00379062,
          985194889.577766,
          33872792385.924484,
          1099651994744.017,
          35356847610517.12,
          1234532816741620,
          42553993018912920,
          778165815188000500,
          1148964028200291200,
          1041726976490342500
         ],
         "yaxis": "y"
        }
       ],
       "layout": {
        "legend": {
         "tracegroupgap": 0
        },
        "template": {
         "data": {
          "bar": [
           {
            "error_x": {
             "color": "#2a3f5f"
            },
            "error_y": {
             "color": "#2a3f5f"
            },
            "marker": {
             "line": {
              "color": "#E5ECF6",
              "width": 0.5
             },
             "pattern": {
              "fillmode": "overlay",
              "size": 10,
              "solidity": 0.2
             }
            },
            "type": "bar"
           }
          ],
          "barpolar": [
           {
            "marker": {
             "line": {
              "color": "#E5ECF6",
              "width": 0.5
             },
             "pattern": {
              "fillmode": "overlay",
              "size": 10,
              "solidity": 0.2
             }
            },
            "type": "barpolar"
           }
          ],
          "carpet": [
           {
            "aaxis": {
             "endlinecolor": "#2a3f5f",
             "gridcolor": "white",
             "linecolor": "white",
             "minorgridcolor": "white",
             "startlinecolor": "#2a3f5f"
            },
            "baxis": {
             "endlinecolor": "#2a3f5f",
             "gridcolor": "white",
             "linecolor": "white",
             "minorgridcolor": "white",
             "startlinecolor": "#2a3f5f"
            },
            "type": "carpet"
           }
          ],
          "choropleth": [
           {
            "colorbar": {
             "outlinewidth": 0,
             "ticks": ""
            },
            "type": "choropleth"
           }
          ],
          "contour": [
           {
            "colorbar": {
             "outlinewidth": 0,
             "ticks": ""
            },
            "colorscale": [
             [
              0,
              "#0d0887"
             ],
             [
              0.1111111111111111,
              "#46039f"
             ],
             [
              0.2222222222222222,
              "#7201a8"
             ],
             [
              0.3333333333333333,
              "#9c179e"
             ],
             [
              0.4444444444444444,
              "#bd3786"
             ],
             [
              0.5555555555555556,
              "#d8576b"
             ],
             [
              0.6666666666666666,
              "#ed7953"
             ],
             [
              0.7777777777777778,
              "#fb9f3a"
             ],
             [
              0.8888888888888888,
              "#fdca26"
             ],
             [
              1,
              "#f0f921"
             ]
            ],
            "type": "contour"
           }
          ],
          "contourcarpet": [
           {
            "colorbar": {
             "outlinewidth": 0,
             "ticks": ""
            },
            "type": "contourcarpet"
           }
          ],
          "heatmap": [
           {
            "colorbar": {
             "outlinewidth": 0,
             "ticks": ""
            },
            "colorscale": [
             [
              0,
              "#0d0887"
             ],
             [
              0.1111111111111111,
              "#46039f"
             ],
             [
              0.2222222222222222,
              "#7201a8"
             ],
             [
              0.3333333333333333,
              "#9c179e"
             ],
             [
              0.4444444444444444,
              "#bd3786"
             ],
             [
              0.5555555555555556,
              "#d8576b"
             ],
             [
              0.6666666666666666,
              "#ed7953"
             ],
             [
              0.7777777777777778,
              "#fb9f3a"
             ],
             [
              0.8888888888888888,
              "#fdca26"
             ],
             [
              1,
              "#f0f921"
             ]
            ],
            "type": "heatmap"
           }
          ],
          "heatmapgl": [
           {
            "colorbar": {
             "outlinewidth": 0,
             "ticks": ""
            },
            "colorscale": [
             [
              0,
              "#0d0887"
             ],
             [
              0.1111111111111111,
              "#46039f"
             ],
             [
              0.2222222222222222,
              "#7201a8"
             ],
             [
              0.3333333333333333,
              "#9c179e"
             ],
             [
              0.4444444444444444,
              "#bd3786"
             ],
             [
              0.5555555555555556,
              "#d8576b"
             ],
             [
              0.6666666666666666,
              "#ed7953"
             ],
             [
              0.7777777777777778,
              "#fb9f3a"
             ],
             [
              0.8888888888888888,
              "#fdca26"
             ],
             [
              1,
              "#f0f921"
             ]
            ],
            "type": "heatmapgl"
           }
          ],
          "histogram": [
           {
            "marker": {
             "pattern": {
              "fillmode": "overlay",
              "size": 10,
              "solidity": 0.2
             }
            },
            "type": "histogram"
           }
          ],
          "histogram2d": [
           {
            "colorbar": {
             "outlinewidth": 0,
             "ticks": ""
            },
            "colorscale": [
             [
              0,
              "#0d0887"
             ],
             [
              0.1111111111111111,
              "#46039f"
             ],
             [
              0.2222222222222222,
              "#7201a8"
             ],
             [
              0.3333333333333333,
              "#9c179e"
             ],
             [
              0.4444444444444444,
              "#bd3786"
             ],
             [
              0.5555555555555556,
              "#d8576b"
             ],
             [
              0.6666666666666666,
              "#ed7953"
             ],
             [
              0.7777777777777778,
              "#fb9f3a"
             ],
             [
              0.8888888888888888,
              "#fdca26"
             ],
             [
              1,
              "#f0f921"
             ]
            ],
            "type": "histogram2d"
           }
          ],
          "histogram2dcontour": [
           {
            "colorbar": {
             "outlinewidth": 0,
             "ticks": ""
            },
            "colorscale": [
             [
              0,
              "#0d0887"
             ],
             [
              0.1111111111111111,
              "#46039f"
             ],
             [
              0.2222222222222222,
              "#7201a8"
             ],
             [
              0.3333333333333333,
              "#9c179e"
             ],
             [
              0.4444444444444444,
              "#bd3786"
             ],
             [
              0.5555555555555556,
              "#d8576b"
             ],
             [
              0.6666666666666666,
              "#ed7953"
             ],
             [
              0.7777777777777778,
              "#fb9f3a"
             ],
             [
              0.8888888888888888,
              "#fdca26"
             ],
             [
              1,
              "#f0f921"
             ]
            ],
            "type": "histogram2dcontour"
           }
          ],
          "mesh3d": [
           {
            "colorbar": {
             "outlinewidth": 0,
             "ticks": ""
            },
            "type": "mesh3d"
           }
          ],
          "parcoords": [
           {
            "line": {
             "colorbar": {
              "outlinewidth": 0,
              "ticks": ""
             }
            },
            "type": "parcoords"
           }
          ],
          "pie": [
           {
            "automargin": true,
            "type": "pie"
           }
          ],
          "scatter": [
           {
            "fillpattern": {
             "fillmode": "overlay",
             "size": 10,
             "solidity": 0.2
            },
            "type": "scatter"
           }
          ],
          "scatter3d": [
           {
            "line": {
             "colorbar": {
              "outlinewidth": 0,
              "ticks": ""
             }
            },
            "marker": {
             "colorbar": {
              "outlinewidth": 0,
              "ticks": ""
             }
            },
            "type": "scatter3d"
           }
          ],
          "scattercarpet": [
           {
            "marker": {
             "colorbar": {
              "outlinewidth": 0,
              "ticks": ""
             }
            },
            "type": "scattercarpet"
           }
          ],
          "scattergeo": [
           {
            "marker": {
             "colorbar": {
              "outlinewidth": 0,
              "ticks": ""
             }
            },
            "type": "scattergeo"
           }
          ],
          "scattergl": [
           {
            "marker": {
             "colorbar": {
              "outlinewidth": 0,
              "ticks": ""
             }
            },
            "type": "scattergl"
           }
          ],
          "scattermapbox": [
           {
            "marker": {
             "colorbar": {
              "outlinewidth": 0,
              "ticks": ""
             }
            },
            "type": "scattermapbox"
           }
          ],
          "scatterpolar": [
           {
            "marker": {
             "colorbar": {
              "outlinewidth": 0,
              "ticks": ""
             }
            },
            "type": "scatterpolar"
           }
          ],
          "scatterpolargl": [
           {
            "marker": {
             "colorbar": {
              "outlinewidth": 0,
              "ticks": ""
             }
            },
            "type": "scatterpolargl"
           }
          ],
          "scatterternary": [
           {
            "marker": {
             "colorbar": {
              "outlinewidth": 0,
              "ticks": ""
             }
            },
            "type": "scatterternary"
           }
          ],
          "surface": [
           {
            "colorbar": {
             "outlinewidth": 0,
             "ticks": ""
            },
            "colorscale": [
             [
              0,
              "#0d0887"
             ],
             [
              0.1111111111111111,
              "#46039f"
             ],
             [
              0.2222222222222222,
              "#7201a8"
             ],
             [
              0.3333333333333333,
              "#9c179e"
             ],
             [
              0.4444444444444444,
              "#bd3786"
             ],
             [
              0.5555555555555556,
              "#d8576b"
             ],
             [
              0.6666666666666666,
              "#ed7953"
             ],
             [
              0.7777777777777778,
              "#fb9f3a"
             ],
             [
              0.8888888888888888,
              "#fdca26"
             ],
             [
              1,
              "#f0f921"
             ]
            ],
            "type": "surface"
           }
          ],
          "table": [
           {
            "cells": {
             "fill": {
              "color": "#EBF0F8"
             },
             "line": {
              "color": "white"
             }
            },
            "header": {
             "fill": {
              "color": "#C8D4E3"
             },
             "line": {
              "color": "white"
             }
            },
            "type": "table"
           }
          ]
         },
         "layout": {
          "annotationdefaults": {
           "arrowcolor": "#2a3f5f",
           "arrowhead": 0,
           "arrowwidth": 1
          },
          "autotypenumbers": "strict",
          "coloraxis": {
           "colorbar": {
            "outlinewidth": 0,
            "ticks": ""
           }
          },
          "colorscale": {
           "diverging": [
            [
             0,
             "#8e0152"
            ],
            [
             0.1,
             "#c51b7d"
            ],
            [
             0.2,
             "#de77ae"
            ],
            [
             0.3,
             "#f1b6da"
            ],
            [
             0.4,
             "#fde0ef"
            ],
            [
             0.5,
             "#f7f7f7"
            ],
            [
             0.6,
             "#e6f5d0"
            ],
            [
             0.7,
             "#b8e186"
            ],
            [
             0.8,
             "#7fbc41"
            ],
            [
             0.9,
             "#4d9221"
            ],
            [
             1,
             "#276419"
            ]
           ],
           "sequential": [
            [
             0,
             "#0d0887"
            ],
            [
             0.1111111111111111,
             "#46039f"
            ],
            [
             0.2222222222222222,
             "#7201a8"
            ],
            [
             0.3333333333333333,
             "#9c179e"
            ],
            [
             0.4444444444444444,
             "#bd3786"
            ],
            [
             0.5555555555555556,
             "#d8576b"
            ],
            [
             0.6666666666666666,
             "#ed7953"
            ],
            [
             0.7777777777777778,
             "#fb9f3a"
            ],
            [
             0.8888888888888888,
             "#fdca26"
            ],
            [
             1,
             "#f0f921"
            ]
           ],
           "sequentialminus": [
            [
             0,
             "#0d0887"
            ],
            [
             0.1111111111111111,
             "#46039f"
            ],
            [
             0.2222222222222222,
             "#7201a8"
            ],
            [
             0.3333333333333333,
             "#9c179e"
            ],
            [
             0.4444444444444444,
             "#bd3786"
            ],
            [
             0.5555555555555556,
             "#d8576b"
            ],
            [
             0.6666666666666666,
             "#ed7953"
            ],
            [
             0.7777777777777778,
             "#fb9f3a"
            ],
            [
             0.8888888888888888,
             "#fdca26"
            ],
            [
             1,
             "#f0f921"
            ]
           ]
          },
          "colorway": [
           "#636efa",
           "#EF553B",
           "#00cc96",
           "#ab63fa",
           "#FFA15A",
           "#19d3f3",
           "#FF6692",
           "#B6E880",
           "#FF97FF",
           "#FECB52"
          ],
          "font": {
           "color": "#2a3f5f"
          },
          "geo": {
           "bgcolor": "white",
           "lakecolor": "white",
           "landcolor": "#E5ECF6",
           "showlakes": true,
           "showland": true,
           "subunitcolor": "white"
          },
          "hoverlabel": {
           "align": "left"
          },
          "hovermode": "closest",
          "mapbox": {
           "style": "light"
          },
          "paper_bgcolor": "white",
          "plot_bgcolor": "#E5ECF6",
          "polar": {
           "angularaxis": {
            "gridcolor": "white",
            "linecolor": "white",
            "ticks": ""
           },
           "bgcolor": "#E5ECF6",
           "radialaxis": {
            "gridcolor": "white",
            "linecolor": "white",
            "ticks": ""
           }
          },
          "scene": {
           "xaxis": {
            "backgroundcolor": "#E5ECF6",
            "gridcolor": "white",
            "gridwidth": 2,
            "linecolor": "white",
            "showbackground": true,
            "ticks": "",
            "zerolinecolor": "white"
           },
           "yaxis": {
            "backgroundcolor": "#E5ECF6",
            "gridcolor": "white",
            "gridwidth": 2,
            "linecolor": "white",
            "showbackground": true,
            "ticks": "",
            "zerolinecolor": "white"
           },
           "zaxis": {
            "backgroundcolor": "#E5ECF6",
            "gridcolor": "white",
            "gridwidth": 2,
            "linecolor": "white",
            "showbackground": true,
            "ticks": "",
            "zerolinecolor": "white"
           }
          },
          "shapedefaults": {
           "line": {
            "color": "#2a3f5f"
           }
          },
          "ternary": {
           "aaxis": {
            "gridcolor": "white",
            "linecolor": "white",
            "ticks": ""
           },
           "baxis": {
            "gridcolor": "white",
            "linecolor": "white",
            "ticks": ""
           },
           "bgcolor": "#E5ECF6",
           "caxis": {
            "gridcolor": "white",
            "linecolor": "white",
            "ticks": ""
           }
          },
          "title": {
           "x": 0.05
          },
          "xaxis": {
           "automargin": true,
           "gridcolor": "white",
           "linecolor": "white",
           "ticks": "",
           "title": {
            "standoff": 15
           },
           "zerolinecolor": "white",
           "zerolinewidth": 2
          },
          "yaxis": {
           "automargin": true,
           "gridcolor": "white",
           "linecolor": "white",
           "ticks": "",
           "title": {
            "standoff": 15
           },
           "zerolinecolor": "white",
           "zerolinewidth": 2
          }
         }
        },
        "title": {
         "text": "Condition Number of Hilbert Matrix vs. n for n=15"
        },
        "xaxis": {
         "anchor": "y",
         "domain": [
          0,
          1
         ],
         "tickformat": "d",
         "title": {
          "text": "n"
         }
        },
        "yaxis": {
         "anchor": "x",
         "domain": [
          0,
          1
         ],
         "title": {
          "text": "Condition Number"
         }
        }
       }
      },
      "text/html": [
       "<div>                            <div id=\"9ddbc6f7-f093-4061-bfea-f0a5539fbc49\" class=\"plotly-graph-div\" style=\"height:525px; width:100%;\"></div>            <script type=\"text/javascript\">                require([\"plotly\"], function(Plotly) {                    window.PLOTLYENV=window.PLOTLYENV || {};                                    if (document.getElementById(\"9ddbc6f7-f093-4061-bfea-f0a5539fbc49\")) {                    Plotly.newPlot(                        \"9ddbc6f7-f093-4061-bfea-f0a5539fbc49\",                        [{\"hovertemplate\":\"n=%{x}\\u003cbr\\u003eCondition Number=%{y}\\u003cextra\\u003e\\u003c\\u002fextra\\u003e\",\"legendgroup\":\"\",\"line\":{\"color\":\"#636efa\",\"dash\":\"solid\"},\"marker\":{\"symbol\":\"circle\"},\"mode\":\"lines\",\"name\":\"\",\"orientation\":\"v\",\"showlegend\":false,\"x\":[2,3,4,5,6,7,8,9,10,11,12,13,14,15],\"xaxis\":\"x\",\"y\":[27.00000000000001,748.0000000000027,28375.00000000183,943656.0000063627,29070279.00379062,985194889.577766,33872792385.924484,1099651994744.017,35356847610517.12,1234532816741620.0,4.255399301891292e+16,7.781658151880005e+17,1.1489640282002912e+18,1.0417269764903425e+18],\"yaxis\":\"y\",\"type\":\"scatter\"}],                        {\"template\":{\"data\":{\"histogram2dcontour\":[{\"type\":\"histogram2dcontour\",\"colorbar\":{\"outlinewidth\":0,\"ticks\":\"\"},\"colorscale\":[[0.0,\"#0d0887\"],[0.1111111111111111,\"#46039f\"],[0.2222222222222222,\"#7201a8\"],[0.3333333333333333,\"#9c179e\"],[0.4444444444444444,\"#bd3786\"],[0.5555555555555556,\"#d8576b\"],[0.6666666666666666,\"#ed7953\"],[0.7777777777777778,\"#fb9f3a\"],[0.8888888888888888,\"#fdca26\"],[1.0,\"#f0f921\"]]}],\"choropleth\":[{\"type\":\"choropleth\",\"colorbar\":{\"outlinewidth\":0,\"ticks\":\"\"}}],\"histogram2d\":[{\"type\":\"histogram2d\",\"colorbar\":{\"outlinewidth\":0,\"ticks\":\"\"},\"colorscale\":[[0.0,\"#0d0887\"],[0.1111111111111111,\"#46039f\"],[0.2222222222222222,\"#7201a8\"],[0.3333333333333333,\"#9c179e\"],[0.4444444444444444,\"#bd3786\"],[0.5555555555555556,\"#d8576b\"],[0.6666666666666666,\"#ed7953\"],[0.7777777777777778,\"#fb9f3a\"],[0.8888888888888888,\"#fdca26\"],[1.0,\"#f0f921\"]]}],\"heatmap\":[{\"type\":\"heatmap\",\"colorbar\":{\"outlinewidth\":0,\"ticks\":\"\"},\"colorscale\":[[0.0,\"#0d0887\"],[0.1111111111111111,\"#46039f\"],[0.2222222222222222,\"#7201a8\"],[0.3333333333333333,\"#9c179e\"],[0.4444444444444444,\"#bd3786\"],[0.5555555555555556,\"#d8576b\"],[0.6666666666666666,\"#ed7953\"],[0.7777777777777778,\"#fb9f3a\"],[0.8888888888888888,\"#fdca26\"],[1.0,\"#f0f921\"]]}],\"heatmapgl\":[{\"type\":\"heatmapgl\",\"colorbar\":{\"outlinewidth\":0,\"ticks\":\"\"},\"colorscale\":[[0.0,\"#0d0887\"],[0.1111111111111111,\"#46039f\"],[0.2222222222222222,\"#7201a8\"],[0.3333333333333333,\"#9c179e\"],[0.4444444444444444,\"#bd3786\"],[0.5555555555555556,\"#d8576b\"],[0.6666666666666666,\"#ed7953\"],[0.7777777777777778,\"#fb9f3a\"],[0.8888888888888888,\"#fdca26\"],[1.0,\"#f0f921\"]]}],\"contourcarpet\":[{\"type\":\"contourcarpet\",\"colorbar\":{\"outlinewidth\":0,\"ticks\":\"\"}}],\"contour\":[{\"type\":\"contour\",\"colorbar\":{\"outlinewidth\":0,\"ticks\":\"\"},\"colorscale\":[[0.0,\"#0d0887\"],[0.1111111111111111,\"#46039f\"],[0.2222222222222222,\"#7201a8\"],[0.3333333333333333,\"#9c179e\"],[0.4444444444444444,\"#bd3786\"],[0.5555555555555556,\"#d8576b\"],[0.6666666666666666,\"#ed7953\"],[0.7777777777777778,\"#fb9f3a\"],[0.8888888888888888,\"#fdca26\"],[1.0,\"#f0f921\"]]}],\"surface\":[{\"type\":\"surface\",\"colorbar\":{\"outlinewidth\":0,\"ticks\":\"\"},\"colorscale\":[[0.0,\"#0d0887\"],[0.1111111111111111,\"#46039f\"],[0.2222222222222222,\"#7201a8\"],[0.3333333333333333,\"#9c179e\"],[0.4444444444444444,\"#bd3786\"],[0.5555555555555556,\"#d8576b\"],[0.6666666666666666,\"#ed7953\"],[0.7777777777777778,\"#fb9f3a\"],[0.8888888888888888,\"#fdca26\"],[1.0,\"#f0f921\"]]}],\"mesh3d\":[{\"type\":\"mesh3d\",\"colorbar\":{\"outlinewidth\":0,\"ticks\":\"\"}}],\"scatter\":[{\"fillpattern\":{\"fillmode\":\"overlay\",\"size\":10,\"solidity\":0.2},\"type\":\"scatter\"}],\"parcoords\":[{\"type\":\"parcoords\",\"line\":{\"colorbar\":{\"outlinewidth\":0,\"ticks\":\"\"}}}],\"scatterpolargl\":[{\"type\":\"scatterpolargl\",\"marker\":{\"colorbar\":{\"outlinewidth\":0,\"ticks\":\"\"}}}],\"bar\":[{\"error_x\":{\"color\":\"#2a3f5f\"},\"error_y\":{\"color\":\"#2a3f5f\"},\"marker\":{\"line\":{\"color\":\"#E5ECF6\",\"width\":0.5},\"pattern\":{\"fillmode\":\"overlay\",\"size\":10,\"solidity\":0.2}},\"type\":\"bar\"}],\"scattergeo\":[{\"type\":\"scattergeo\",\"marker\":{\"colorbar\":{\"outlinewidth\":0,\"ticks\":\"\"}}}],\"scatterpolar\":[{\"type\":\"scatterpolar\",\"marker\":{\"colorbar\":{\"outlinewidth\":0,\"ticks\":\"\"}}}],\"histogram\":[{\"marker\":{\"pattern\":{\"fillmode\":\"overlay\",\"size\":10,\"solidity\":0.2}},\"type\":\"histogram\"}],\"scattergl\":[{\"type\":\"scattergl\",\"marker\":{\"colorbar\":{\"outlinewidth\":0,\"ticks\":\"\"}}}],\"scatter3d\":[{\"type\":\"scatter3d\",\"line\":{\"colorbar\":{\"outlinewidth\":0,\"ticks\":\"\"}},\"marker\":{\"colorbar\":{\"outlinewidth\":0,\"ticks\":\"\"}}}],\"scattermapbox\":[{\"type\":\"scattermapbox\",\"marker\":{\"colorbar\":{\"outlinewidth\":0,\"ticks\":\"\"}}}],\"scatterternary\":[{\"type\":\"scatterternary\",\"marker\":{\"colorbar\":{\"outlinewidth\":0,\"ticks\":\"\"}}}],\"scattercarpet\":[{\"type\":\"scattercarpet\",\"marker\":{\"colorbar\":{\"outlinewidth\":0,\"ticks\":\"\"}}}],\"carpet\":[{\"aaxis\":{\"endlinecolor\":\"#2a3f5f\",\"gridcolor\":\"white\",\"linecolor\":\"white\",\"minorgridcolor\":\"white\",\"startlinecolor\":\"#2a3f5f\"},\"baxis\":{\"endlinecolor\":\"#2a3f5f\",\"gridcolor\":\"white\",\"linecolor\":\"white\",\"minorgridcolor\":\"white\",\"startlinecolor\":\"#2a3f5f\"},\"type\":\"carpet\"}],\"table\":[{\"cells\":{\"fill\":{\"color\":\"#EBF0F8\"},\"line\":{\"color\":\"white\"}},\"header\":{\"fill\":{\"color\":\"#C8D4E3\"},\"line\":{\"color\":\"white\"}},\"type\":\"table\"}],\"barpolar\":[{\"marker\":{\"line\":{\"color\":\"#E5ECF6\",\"width\":0.5},\"pattern\":{\"fillmode\":\"overlay\",\"size\":10,\"solidity\":0.2}},\"type\":\"barpolar\"}],\"pie\":[{\"automargin\":true,\"type\":\"pie\"}]},\"layout\":{\"autotypenumbers\":\"strict\",\"colorway\":[\"#636efa\",\"#EF553B\",\"#00cc96\",\"#ab63fa\",\"#FFA15A\",\"#19d3f3\",\"#FF6692\",\"#B6E880\",\"#FF97FF\",\"#FECB52\"],\"font\":{\"color\":\"#2a3f5f\"},\"hovermode\":\"closest\",\"hoverlabel\":{\"align\":\"left\"},\"paper_bgcolor\":\"white\",\"plot_bgcolor\":\"#E5ECF6\",\"polar\":{\"bgcolor\":\"#E5ECF6\",\"angularaxis\":{\"gridcolor\":\"white\",\"linecolor\":\"white\",\"ticks\":\"\"},\"radialaxis\":{\"gridcolor\":\"white\",\"linecolor\":\"white\",\"ticks\":\"\"}},\"ternary\":{\"bgcolor\":\"#E5ECF6\",\"aaxis\":{\"gridcolor\":\"white\",\"linecolor\":\"white\",\"ticks\":\"\"},\"baxis\":{\"gridcolor\":\"white\",\"linecolor\":\"white\",\"ticks\":\"\"},\"caxis\":{\"gridcolor\":\"white\",\"linecolor\":\"white\",\"ticks\":\"\"}},\"coloraxis\":{\"colorbar\":{\"outlinewidth\":0,\"ticks\":\"\"}},\"colorscale\":{\"sequential\":[[0.0,\"#0d0887\"],[0.1111111111111111,\"#46039f\"],[0.2222222222222222,\"#7201a8\"],[0.3333333333333333,\"#9c179e\"],[0.4444444444444444,\"#bd3786\"],[0.5555555555555556,\"#d8576b\"],[0.6666666666666666,\"#ed7953\"],[0.7777777777777778,\"#fb9f3a\"],[0.8888888888888888,\"#fdca26\"],[1.0,\"#f0f921\"]],\"sequentialminus\":[[0.0,\"#0d0887\"],[0.1111111111111111,\"#46039f\"],[0.2222222222222222,\"#7201a8\"],[0.3333333333333333,\"#9c179e\"],[0.4444444444444444,\"#bd3786\"],[0.5555555555555556,\"#d8576b\"],[0.6666666666666666,\"#ed7953\"],[0.7777777777777778,\"#fb9f3a\"],[0.8888888888888888,\"#fdca26\"],[1.0,\"#f0f921\"]],\"diverging\":[[0,\"#8e0152\"],[0.1,\"#c51b7d\"],[0.2,\"#de77ae\"],[0.3,\"#f1b6da\"],[0.4,\"#fde0ef\"],[0.5,\"#f7f7f7\"],[0.6,\"#e6f5d0\"],[0.7,\"#b8e186\"],[0.8,\"#7fbc41\"],[0.9,\"#4d9221\"],[1,\"#276419\"]]},\"xaxis\":{\"gridcolor\":\"white\",\"linecolor\":\"white\",\"ticks\":\"\",\"title\":{\"standoff\":15},\"zerolinecolor\":\"white\",\"automargin\":true,\"zerolinewidth\":2},\"yaxis\":{\"gridcolor\":\"white\",\"linecolor\":\"white\",\"ticks\":\"\",\"title\":{\"standoff\":15},\"zerolinecolor\":\"white\",\"automargin\":true,\"zerolinewidth\":2},\"scene\":{\"xaxis\":{\"backgroundcolor\":\"#E5ECF6\",\"gridcolor\":\"white\",\"linecolor\":\"white\",\"showbackground\":true,\"ticks\":\"\",\"zerolinecolor\":\"white\",\"gridwidth\":2},\"yaxis\":{\"backgroundcolor\":\"#E5ECF6\",\"gridcolor\":\"white\",\"linecolor\":\"white\",\"showbackground\":true,\"ticks\":\"\",\"zerolinecolor\":\"white\",\"gridwidth\":2},\"zaxis\":{\"backgroundcolor\":\"#E5ECF6\",\"gridcolor\":\"white\",\"linecolor\":\"white\",\"showbackground\":true,\"ticks\":\"\",\"zerolinecolor\":\"white\",\"gridwidth\":2}},\"shapedefaults\":{\"line\":{\"color\":\"#2a3f5f\"}},\"annotationdefaults\":{\"arrowcolor\":\"#2a3f5f\",\"arrowhead\":0,\"arrowwidth\":1},\"geo\":{\"bgcolor\":\"white\",\"landcolor\":\"#E5ECF6\",\"subunitcolor\":\"white\",\"showland\":true,\"showlakes\":true,\"lakecolor\":\"white\"},\"title\":{\"x\":0.05},\"mapbox\":{\"style\":\"light\"}}},\"xaxis\":{\"anchor\":\"y\",\"domain\":[0.0,1.0],\"title\":{\"text\":\"n\"},\"tickformat\":\"d\"},\"yaxis\":{\"anchor\":\"x\",\"domain\":[0.0,1.0],\"title\":{\"text\":\"Condition Number\"}},\"legend\":{\"tracegroupgap\":0},\"title\":{\"text\":\"Condition Number of Hilbert Matrix vs. n for n=15\"}},                        {\"responsive\": true}                    ).then(function(){\n",
       "                            \n",
       "var gd = document.getElementById('9ddbc6f7-f093-4061-bfea-f0a5539fbc49');\n",
       "var x = new MutationObserver(function (mutations, observer) {{\n",
       "        var display = window.getComputedStyle(gd).display;\n",
       "        if (!display || display === 'none') {{\n",
       "            console.log([gd, 'removed!']);\n",
       "            Plotly.purge(gd);\n",
       "            observer.disconnect();\n",
       "        }}\n",
       "}});\n",
       "\n",
       "// Listen for the removal of the full notebook cells\n",
       "var notebookContainer = gd.closest('#notebook-container');\n",
       "if (notebookContainer) {{\n",
       "    x.observe(notebookContainer, {childList: true});\n",
       "}}\n",
       "\n",
       "// Listen for the clearing of the current output cell\n",
       "var outputEl = gd.closest('.output');\n",
       "if (outputEl) {{\n",
       "    x.observe(outputEl, {childList: true});\n",
       "}}\n",
       "\n",
       "                        })                };                });            </script>        </div>"
      ]
     },
     "metadata": {},
     "output_type": "display_data"
    }
   ],
   "source": [
    "#Usando función\n",
    "plot_condition_of_Hilbert_matrix(15)"
   ]
  },
  {
   "cell_type": "markdown",
   "metadata": {},
   "source": [
    "#### **Observación**: Es evidente que a medida que aumenta el valor de `n` en la **Matriz de Hilbert**, aumenta su condición y, por lo tanto, aumenta su **Cota superior de error relativo**. Esto significa que la matriz tiende a ser mal condicionada a medida que aumenta `n`, por lo tanto, se vuelve cada vez mas sensible a pequeñas perturbaciones en los datos y puede causar serios problemas en la precisión de su estimación numérica. "
   ]
  },
  {
   "cell_type": "markdown",
   "metadata": {},
   "source": [
    "## 4.2. Estimando valores de X usando la Matriz de Hilbert"
   ]
  },
  {
   "cell_type": "markdown",
   "metadata": {},
   "source": [
    "### Definiendo vector x"
   ]
  },
  {
   "cell_type": "code",
   "execution_count": 14,
   "metadata": {},
   "outputs": [
    {
     "data": {
      "text/plain": [
       "array([ 1,  2,  3,  4,  5,  6,  7,  8,  9, 10, 11, 12, 13, 14, 15])"
      ]
     },
     "execution_count": 14,
     "metadata": {},
     "output_type": "execute_result"
    }
   ],
   "source": [
    "x= np.arange(1, 16)\n",
    "x"
   ]
  },
  {
   "cell_type": "markdown",
   "metadata": {},
   "source": [
    "#### Generando la Matriz de Hilbert para n=15"
   ]
  },
  {
   "cell_type": "code",
   "execution_count": 15,
   "metadata": {},
   "outputs": [
    {
     "data": {
      "text/plain": [
       "array([[1.        , 0.5       , 0.33333333, 0.25      , 0.2       ,\n",
       "        0.16666667, 0.14285714, 0.125     , 0.11111111, 0.1       ,\n",
       "        0.09090909, 0.08333333, 0.07692308, 0.07142857, 0.06666667],\n",
       "       [0.5       , 0.33333333, 0.25      , 0.2       , 0.16666667,\n",
       "        0.14285714, 0.125     , 0.11111111, 0.1       , 0.09090909,\n",
       "        0.08333333, 0.07692308, 0.07142857, 0.06666667, 0.0625    ],\n",
       "       [0.33333333, 0.25      , 0.2       , 0.16666667, 0.14285714,\n",
       "        0.125     , 0.11111111, 0.1       , 0.09090909, 0.08333333,\n",
       "        0.07692308, 0.07142857, 0.06666667, 0.0625    , 0.05882353],\n",
       "       [0.25      , 0.2       , 0.16666667, 0.14285714, 0.125     ,\n",
       "        0.11111111, 0.1       , 0.09090909, 0.08333333, 0.07692308,\n",
       "        0.07142857, 0.06666667, 0.0625    , 0.05882353, 0.05555556],\n",
       "       [0.2       , 0.16666667, 0.14285714, 0.125     , 0.11111111,\n",
       "        0.1       , 0.09090909, 0.08333333, 0.07692308, 0.07142857,\n",
       "        0.06666667, 0.0625    , 0.05882353, 0.05555556, 0.05263158],\n",
       "       [0.16666667, 0.14285714, 0.125     , 0.11111111, 0.1       ,\n",
       "        0.09090909, 0.08333333, 0.07692308, 0.07142857, 0.06666667,\n",
       "        0.0625    , 0.05882353, 0.05555556, 0.05263158, 0.05      ],\n",
       "       [0.14285714, 0.125     , 0.11111111, 0.1       , 0.09090909,\n",
       "        0.08333333, 0.07692308, 0.07142857, 0.06666667, 0.0625    ,\n",
       "        0.05882353, 0.05555556, 0.05263158, 0.05      , 0.04761905],\n",
       "       [0.125     , 0.11111111, 0.1       , 0.09090909, 0.08333333,\n",
       "        0.07692308, 0.07142857, 0.06666667, 0.0625    , 0.05882353,\n",
       "        0.05555556, 0.05263158, 0.05      , 0.04761905, 0.04545455],\n",
       "       [0.11111111, 0.1       , 0.09090909, 0.08333333, 0.07692308,\n",
       "        0.07142857, 0.06666667, 0.0625    , 0.05882353, 0.05555556,\n",
       "        0.05263158, 0.05      , 0.04761905, 0.04545455, 0.04347826],\n",
       "       [0.1       , 0.09090909, 0.08333333, 0.07692308, 0.07142857,\n",
       "        0.06666667, 0.0625    , 0.05882353, 0.05555556, 0.05263158,\n",
       "        0.05      , 0.04761905, 0.04545455, 0.04347826, 0.04166667],\n",
       "       [0.09090909, 0.08333333, 0.07692308, 0.07142857, 0.06666667,\n",
       "        0.0625    , 0.05882353, 0.05555556, 0.05263158, 0.05      ,\n",
       "        0.04761905, 0.04545455, 0.04347826, 0.04166667, 0.04      ],\n",
       "       [0.08333333, 0.07692308, 0.07142857, 0.06666667, 0.0625    ,\n",
       "        0.05882353, 0.05555556, 0.05263158, 0.05      , 0.04761905,\n",
       "        0.04545455, 0.04347826, 0.04166667, 0.04      , 0.03846154],\n",
       "       [0.07692308, 0.07142857, 0.06666667, 0.0625    , 0.05882353,\n",
       "        0.05555556, 0.05263158, 0.05      , 0.04761905, 0.04545455,\n",
       "        0.04347826, 0.04166667, 0.04      , 0.03846154, 0.03703704],\n",
       "       [0.07142857, 0.06666667, 0.0625    , 0.05882353, 0.05555556,\n",
       "        0.05263158, 0.05      , 0.04761905, 0.04545455, 0.04347826,\n",
       "        0.04166667, 0.04      , 0.03846154, 0.03703704, 0.03571429],\n",
       "       [0.06666667, 0.0625    , 0.05882353, 0.05555556, 0.05263158,\n",
       "        0.05      , 0.04761905, 0.04545455, 0.04347826, 0.04166667,\n",
       "        0.04      , 0.03846154, 0.03703704, 0.03571429, 0.03448276]])"
      ]
     },
     "execution_count": 15,
     "metadata": {},
     "output_type": "execute_result"
    }
   ],
   "source": [
    "H15=generate_hilbert_matrix(15)\n",
    "H15"
   ]
  },
  {
   "cell_type": "markdown",
   "metadata": {},
   "source": [
    "#### Hallando `b`, donde `b`= `H15` * `x`"
   ]
  },
  {
   "cell_type": "code",
   "execution_count": 16,
   "metadata": {},
   "outputs": [
    {
     "data": {
      "text/plain": [
       "array([15.        , 12.61927101, 11.12089495, 10.01467577,  9.1423747 ,\n",
       "        8.42796838,  7.82784777,  7.31430725,  6.86852505,  6.47709069,\n",
       "        6.13010076,  5.82003392,  5.5410471 ,  5.28851531,  5.05871941])"
      ]
     },
     "execution_count": 16,
     "metadata": {},
     "output_type": "execute_result"
    }
   ],
   "source": [
    "b=H15@x\n",
    "b"
   ]
  },
  {
   "cell_type": "markdown",
   "metadata": {},
   "source": [
    "#### Resolviendo el sistema utilizando la forma `x`=`Inv_H15` * `b`"
   ]
  },
  {
   "cell_type": "markdown",
   "metadata": {},
   "source": [
    "##### Calculando `Inv_H15`"
   ]
  },
  {
   "cell_type": "code",
   "execution_count": 17,
   "metadata": {},
   "outputs": [
    {
     "data": {
      "text/plain": [
       "array([[ 1.58102325e+02, -1.23889847e+04,  3.15964881e+05,\n",
       "        -3.86891496e+06,  2.67618553e+07, -1.13312251e+08,\n",
       "         3.03708680e+08, -5.10569864e+08,  4.93534545e+08,\n",
       "        -1.71580270e+08, -1.43728572e+08,  1.60546278e+08,\n",
       "        -2.04394795e+07, -3.37170153e+07,  1.23612882e+07],\n",
       "       [-1.24139480e+04,  1.29893443e+06, -3.73711517e+07,\n",
       "         4.90142708e+08, -3.55249071e+09,  1.55982784e+10,\n",
       "        -4.31721807e+10,  7.49844614e+10, -7.54267804e+10,\n",
       "         2.83167578e+10,  2.32445585e+10, -3.12735169e+10,\n",
       "         1.04566898e+10,  1.57293115e+09, -1.20276845e+09],\n",
       "       [ 3.18072012e+05, -3.75526038e+07,  1.15731114e+09,\n",
       "        -1.59009456e+10,  1.19424887e+11, -5.40541259e+11,\n",
       "         1.53971946e+12, -2.75663156e+12,  2.87538197e+12,\n",
       "        -1.14181680e+12, -9.68567378e+11,  1.49246049e+12,\n",
       "        -7.14620031e+11,  9.37033423e+10,  1.62678082e+10],\n",
       "       [-3.92638714e+06,  4.96768669e+08, -1.60423758e+10,\n",
       "         2.28401603e+11, -1.76741998e+12,  8.22121729e+12,\n",
       "        -2.40606019e+13,  4.43415326e+13, -4.78045443e+13,\n",
       "         1.96768159e+13,  1.81830023e+13, -3.06975623e+13,\n",
       "         1.78424179e+13, -4.42979031e+12,  2.82079657e+11],\n",
       "       [ 2.75162502e+07, -3.65118746e+09,  1.22268244e+11,\n",
       "        -1.79430992e+12,  1.42683634e+13, -6.81297534e+13,\n",
       "         2.04758124e+14, -3.88090264e+14,  4.30882714e+14,\n",
       "        -1.79459359e+14, -1.91728071e+14,  3.41010988e+14,\n",
       "        -2.23109720e+14,  6.94663011e+13, -8.19365120e+12],\n",
       "       [-1.18965874e+08,  1.63977111e+10, -5.66867743e+11,\n",
       "         8.55920021e+12, -6.99188231e+13,  3.42826149e+14,\n",
       "        -1.05842666e+15,  2.06164471e+15, -2.34584865e+15,\n",
       "         9.54459654e+14,  1.27275499e+15, -2.30201864e+15,\n",
       "         1.62390310e+15, -5.67878478e+14,  8.04940117e+13],\n",
       "       [ 3.30186018e+08, -4.71446032e+10,  1.68212152e+12,\n",
       "        -2.61618778e+13,  2.19921613e+14, -1.10920732e+15,\n",
       "         3.52125302e+15, -7.04022540e+15,  8.14619906e+15,\n",
       "        -3.03543462e+15, -5.68096365e+15,  1.01121921e+16,\n",
       "        -7.47295345e+15,  2.79655959e+15, -4.32814277e+14],\n",
       "       [-5.92019373e+08,  8.78750657e+10, -3.25055777e+12,\n",
       "         5.23171846e+13, -4.54482261e+14,  2.36541750e+15,\n",
       "        -7.73038247e+15,  1.58183031e+16, -1.83386963e+16,\n",
       "         5.31328196e+15,  1.77230922e+16, -3.00928810e+16,\n",
       "         2.27810147e+16, -8.87659484e+15,  1.44277342e+15],\n",
       "       [ 6.62081409e+08, -1.03630600e+11,  4.02438567e+12,\n",
       "        -6.77341559e+13,  6.12929516e+14, -3.30769986e+15,\n",
       "         1.11309442e+16, -2.31209895e+16,  2.59295881e+16,\n",
       "        -2.21901008e+15, -3.94563378e+16,  6.19634605e+16,\n",
       "        -4.70699798e+16,  1.87299803e+16, -3.12907307e+15],\n",
       "       [-4.06695417e+08,  7.03626451e+10, -2.96835406e+12,\n",
       "         5.35046354e+13, -5.11869891e+14,  2.88097899e+15,\n",
       "        -9.92760263e+15,  2.03585930e+16, -1.95279753e+16,\n",
       "        -1.18489671e+16,  6.30957478e+16, -8.87582456e+16,\n",
       "         6.61218805e+16, -2.63926969e+16,  4.45955136e+15],\n",
       "       [ 7.23256545e+07, -1.90607421e+10,  1.01291908e+12,\n",
       "        -2.10541489e+13,  2.19749179e+14, -1.28702454e+15,\n",
       "         4.33317068e+15, -7.39032166e+15, -2.39029717e+14,\n",
       "         3.06115412e+16, -7.19495763e+16,  8.75121808e+16,\n",
       "        -6.19679116e+16,  2.42464604e+16, -4.06917884e+15],\n",
       "       [ 3.80432467e+07, -3.52538101e+09,  5.86377102e+10,\n",
       "        -1.09390136e+11, -6.98070500e+11, -4.38448055e+13,\n",
       "         6.74440190e+14, -4.32886227e+15,  1.59389195e+16,\n",
       "        -3.72130274e+16,  5.71005043e+16, -5.75587537e+16,\n",
       "         3.67554857e+16, -1.34965124e+16,  2.17240355e+15],\n",
       "       [ 1.53659165e+07, -5.21944186e+08, -5.90296434e+10,\n",
       "         2.54814297e+12, -4.06836989e+13,  3.49671765e+14,\n",
       "        -1.85287581e+15,  6.48121628e+15, -1.55216875e+16,\n",
       "         2.58648613e+16, -2.99641260e+16,  2.36611349e+16,\n",
       "        -1.21404514e+16,  3.64678485e+15, -4.86333201e+14],\n",
       "       [-3.54670848e+07,  3.76695913e+09, -7.49645095e+10,\n",
       "        -1.25102161e+10,  1.28791439e+13, -1.50951654e+14,\n",
       "         8.69743136e+14, -3.01743667e+15,  6.74249674e+15,\n",
       "        -9.88608032e+15,  9.34420071e+15, -5.30337672e+15,\n",
       "         1.44118204e+15,  2.12733200e+13, -7.38460785e+13],\n",
       "       [ 1.12498377e+07, -1.32842725e+09,  3.43636799e+10,\n",
       "        -2.75758082e+11, -4.43542206e+11,  2.02673319e+13,\n",
       "        -1.42457928e+14,  5.24509113e+14, -1.16984441e+15,\n",
       "         1.61927178e+15, -1.31080576e+15,  4.54532428e+14,\n",
       "         1.33801915e+14, -1.72507852e+14,  4.39196674e+13]])"
      ]
     },
     "execution_count": 17,
     "metadata": {},
     "output_type": "execute_result"
    }
   ],
   "source": [
    "I_H15=np.linalg.inv(H15)\n",
    "I_H15"
   ]
  },
  {
   "cell_type": "code",
   "execution_count": 19,
   "metadata": {},
   "outputs": [
    {
     "data": {
      "text/plain": [
       "array([-4.50581565e+00,  2.00421654e+02, -6.07346191e+02,  5.78531250e+02,\n",
       "       -1.25225000e+03,  4.75100000e+03, -7.84800000e+03,  6.35200000e+03,\n",
       "       -2.33600000e+03, -6.40000000e+01,  3.84000000e+02, -1.44000000e+02,\n",
       "        5.60000000e+01, -2.00000000e+00,  1.92656250e+01])"
      ]
     },
     "execution_count": 19,
     "metadata": {},
     "output_type": "execute_result"
    }
   ],
   "source": [
    "x_estimated=I_H15@b\n",
    "x_estimated"
   ]
  },
  {
   "cell_type": "markdown",
   "metadata": {},
   "source": [
    "#### Resolviendo el sistema utilizando la función de numpy `loinalg.solve`"
   ]
  },
  {
   "cell_type": "code",
   "execution_count": 24,
   "metadata": {},
   "outputs": [
    {
     "data": {
      "text/plain": [
       "array([  0.99999951,   2.00007576,   2.99712233,   4.04722415,\n",
       "         4.58549494,   8.14944695,   0.18557238,  20.63897678,\n",
       "        -0.6744124 ,  -2.16371952,  53.6820964 , -42.3648982 ,\n",
       "        51.00101332,  -0.41395869,  17.32996634])"
      ]
     },
     "execution_count": 24,
     "metadata": {},
     "output_type": "execute_result"
    }
   ],
   "source": [
    "# Resolver el sistema lineal x = H^(-1) * b\n",
    "x_estimated = np.linalg.solve(H15, b)\n",
    "\n",
    "# Imprimir la solución estimada\n",
    "x_estimated"
   ]
  },
  {
   "cell_type": "markdown",
   "metadata": {},
   "source": [
    "### **Conclusión:** Se puede notar que independientemende del método utilizado, la precisión de la estimación de los valores no tiene ningún sentido respecto a los valores reales. Esto es coherente con la gráfica del punto anterior, donde se evidención que entre más aumenta n, menor es la precisión de la estimación porque aumenta la condición."
   ]
  },
  {
   "cell_type": "markdown",
   "metadata": {},
   "source": [
    "## Alternativas para resolver el problema observado\n",
    "\n",
    "### **1. Regularización**: La regularicazión (ridge) suma una pequeña cantidad (`alpha`) de la matriz identidad a la matriz de HIlbert antes de resolver el sistema de ecuaciones lineales."
   ]
  },
  {
   "cell_type": "code",
   "execution_count": 27,
   "metadata": {},
   "outputs": [
    {
     "data": {
      "text/plain": [
       "array([ 0.99999973,  2.00001699,  2.9997758 ,  4.00101915,  4.9984947 ,\n",
       "        5.99944425,  7.00166846,  8.00166572,  8.99957563,  9.99764421,\n",
       "       10.99776733, 12.00015367, 13.00308267, 14.00326435, 14.99642161])"
      ]
     },
     "execution_count": 27,
     "metadata": {},
     "output_type": "execute_result"
    }
   ],
   "source": [
    "# Regularización (Ridge Regression)\n",
    "alpha = 1e-9  # Parámetro de regularización (ajustable)\n",
    "A = H15 + alpha * np.identity(15)\n",
    "x_ridge = np.linalg.solve(A, b)\n",
    "x_ridge"
   ]
  },
  {
   "cell_type": "markdown",
   "metadata": {},
   "source": [
    "#### Es destacable la mejora en los resultados de la estimación cuando se aplica Regularización, en este caso, todos los valores estimados son casi iguales a los valores reales."
   ]
  },
  {
   "cell_type": "markdown",
   "metadata": {},
   "source": [
    "### **2. Gradiente conjugado o Gradiente descendiente:** Es un algoritmo iterativo utilizado para resolver sistemas lineales de ecuaciones en matrices simétricas y positivas definidas. Este método es particularmente efectivo en matrices mal condicionadas y es más eficiente que los métodos directos, como la inversión de matriz, en tales casos."
   ]
  },
  {
   "cell_type": "code",
   "execution_count": 28,
   "metadata": {},
   "outputs": [
    {
     "data": {
      "text/plain": [
       "array([ 1.01364205,  1.80885355,  3.46770725,  4.01629767,  4.69368057,\n",
       "        5.65677151,  6.80213702,  8.01231518,  9.2039909 , 10.32721728,\n",
       "       11.35597582, 12.27964888, 13.0969328 , 13.81184227, 14.43119377])"
      ]
     },
     "execution_count": 28,
     "metadata": {},
     "output_type": "execute_result"
    }
   ],
   "source": [
    "x_approx, _ = cg(H15, b, tol=1e-6)  # Ajustar la tolerancia según sea necesario\n",
    "\n",
    "# Imprimir la solución aproximada\n",
    "x_approx"
   ]
  },
  {
   "cell_type": "markdown",
   "metadata": {},
   "source": [
    "#### Se puede notar que este método mejora la precisión de la estimación en algunas observaciones, pero afecta algunas que eran precisas antes de esta transformación, por ejemplo, la segunda estimación pasa de 2 a 1.8.\n",
    "\n",
    "#### Por lo tanto, en este caso, es preferible utilizar la Regularización `ridge regression` para resolver el problema de precisión en la estimación numérica a medida que aumenta `n` en la Matriz de Hilbert."
   ]
  }
 ],
 "metadata": {
  "kernelspec": {
   "display_name": "Algebra_Taller2_Sebastian_David-0MNUXVjs",
   "language": "python",
   "name": "python3"
  },
  "language_info": {
   "codemirror_mode": {
    "name": "ipython",
    "version": 3
   },
   "file_extension": ".py",
   "mimetype": "text/x-python",
   "name": "python",
   "nbconvert_exporter": "python",
   "pygments_lexer": "ipython3",
   "version": "3.11.5"
  },
  "orig_nbformat": 4
 },
 "nbformat": 4,
 "nbformat_minor": 2
}
